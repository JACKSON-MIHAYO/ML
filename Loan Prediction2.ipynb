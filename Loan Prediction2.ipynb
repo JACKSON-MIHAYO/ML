{
 "cells": [
  {
   "cell_type": "code",
   "execution_count": 86,
   "metadata": {},
   "outputs": [],
   "source": [
    "import pandas as pd\n",
    "import numpy as np\n",
    "import seaborn as sns\n",
    "from sklearn import metrics\n",
    "import matplotlib.pyplot as plt\n",
    "%matplotlib inline"
   ]
  },
  {
   "cell_type": "code",
   "execution_count": 87,
   "metadata": {},
   "outputs": [],
   "source": [
    "dataset = pd.read_csv(\"train.csv\")\n"
   ]
  },
  {
   "cell_type": "code",
   "execution_count": 88,
   "metadata": {},
   "outputs": [
    {
     "data": {
      "text/plain": [
       "(30, 20)"
      ]
     },
     "execution_count": 88,
     "metadata": {},
     "output_type": "execute_result"
    }
   ],
   "source": [
    "dataset.shape"
   ]
  },
  {
   "cell_type": "code",
   "execution_count": 89,
   "metadata": {},
   "outputs": [
    {
     "data": {
      "text/html": [
       "<div>\n",
       "<style scoped>\n",
       "    .dataframe tbody tr th:only-of-type {\n",
       "        vertical-align: middle;\n",
       "    }\n",
       "\n",
       "    .dataframe tbody tr th {\n",
       "        vertical-align: top;\n",
       "    }\n",
       "\n",
       "    .dataframe thead th {\n",
       "        text-align: right;\n",
       "    }\n",
       "</style>\n",
       "<table border=\"1\" class=\"dataframe\">\n",
       "  <thead>\n",
       "    <tr style=\"text-align: right;\">\n",
       "      <th></th>\n",
       "      <th>Loan_ID</th>\n",
       "      <th>Gender</th>\n",
       "      <th>Married</th>\n",
       "      <th>Dependents</th>\n",
       "      <th>Education</th>\n",
       "      <th>Self_Employed</th>\n",
       "      <th>ApplicantIncome</th>\n",
       "      <th>CoapplicantIncome</th>\n",
       "      <th>LoanAmount</th>\n",
       "      <th>Loan_Amount_Term</th>\n",
       "      <th>Credit_History</th>\n",
       "      <th>Property_Area</th>\n",
       "      <th>Loan_Status</th>\n",
       "      <th>LoanPurpose</th>\n",
       "      <th>BusnessExperience</th>\n",
       "      <th>FinanceStatement</th>\n",
       "      <th>BusnessNature</th>\n",
       "      <th>Age</th>\n",
       "      <th>Nationality</th>\n",
       "      <th>OtherSourcesIncome</th>\n",
       "    </tr>\n",
       "  </thead>\n",
       "  <tbody>\n",
       "    <tr>\n",
       "      <th>0</th>\n",
       "      <td>LP001002</td>\n",
       "      <td>Male</td>\n",
       "      <td>No</td>\n",
       "      <td>0</td>\n",
       "      <td>Graduate</td>\n",
       "      <td>No</td>\n",
       "      <td>5849</td>\n",
       "      <td>2504</td>\n",
       "      <td>100</td>\n",
       "      <td>360</td>\n",
       "      <td>1</td>\n",
       "      <td>Urban</td>\n",
       "      <td>Y</td>\n",
       "      <td>ImproveCashFlow</td>\n",
       "      <td>Atleast 1year</td>\n",
       "      <td>Profit</td>\n",
       "      <td>Profitable</td>\n",
       "      <td>18</td>\n",
       "      <td>Indigenous</td>\n",
       "      <td>Y</td>\n",
       "    </tr>\n",
       "    <tr>\n",
       "      <th>1</th>\n",
       "      <td>LP001003</td>\n",
       "      <td>Male</td>\n",
       "      <td>Yes</td>\n",
       "      <td>1</td>\n",
       "      <td>Graduate</td>\n",
       "      <td>No</td>\n",
       "      <td>4583</td>\n",
       "      <td>1508</td>\n",
       "      <td>128</td>\n",
       "      <td>360</td>\n",
       "      <td>1</td>\n",
       "      <td>Rural</td>\n",
       "      <td>N</td>\n",
       "      <td>HouseRepair</td>\n",
       "      <td>Lessthan 1year</td>\n",
       "      <td>LossStatement</td>\n",
       "      <td>Profitable</td>\n",
       "      <td>65</td>\n",
       "      <td>Indigenous</td>\n",
       "      <td>Y</td>\n",
       "    </tr>\n",
       "    <tr>\n",
       "      <th>2</th>\n",
       "      <td>LP001005</td>\n",
       "      <td>Male</td>\n",
       "      <td>Yes</td>\n",
       "      <td>0</td>\n",
       "      <td>Graduate</td>\n",
       "      <td>Yes</td>\n",
       "      <td>3000</td>\n",
       "      <td>0</td>\n",
       "      <td>66</td>\n",
       "      <td>360</td>\n",
       "      <td>1</td>\n",
       "      <td>Urban</td>\n",
       "      <td>Y</td>\n",
       "      <td>Agriculture</td>\n",
       "      <td>Atleast 1year</td>\n",
       "      <td>IncomeStatement</td>\n",
       "      <td>ProfitableProfitable</td>\n",
       "      <td>28</td>\n",
       "      <td>Indigenous</td>\n",
       "      <td>Y</td>\n",
       "    </tr>\n",
       "    <tr>\n",
       "      <th>3</th>\n",
       "      <td>LP001006</td>\n",
       "      <td>Male</td>\n",
       "      <td>Yes</td>\n",
       "      <td>0</td>\n",
       "      <td>Not Graduate</td>\n",
       "      <td>No</td>\n",
       "      <td>2583</td>\n",
       "      <td>0</td>\n",
       "      <td>120</td>\n",
       "      <td>360</td>\n",
       "      <td>1</td>\n",
       "      <td>Urban</td>\n",
       "      <td>N</td>\n",
       "      <td>PurchaseEquipment</td>\n",
       "      <td>Lessthan 1year</td>\n",
       "      <td>FinanceProjection</td>\n",
       "      <td>Profitable</td>\n",
       "      <td>18</td>\n",
       "      <td>Indigenous</td>\n",
       "      <td>N</td>\n",
       "    </tr>\n",
       "    <tr>\n",
       "      <th>4</th>\n",
       "      <td>LP001008</td>\n",
       "      <td>Male</td>\n",
       "      <td>No</td>\n",
       "      <td>0</td>\n",
       "      <td>Graduate</td>\n",
       "      <td>No</td>\n",
       "      <td>6000</td>\n",
       "      <td>1300</td>\n",
       "      <td>141</td>\n",
       "      <td>360</td>\n",
       "      <td>1</td>\n",
       "      <td>Urban</td>\n",
       "      <td>Y</td>\n",
       "      <td>PayExpansionProject</td>\n",
       "      <td>Atleast 1year</td>\n",
       "      <td>FinanceProjection</td>\n",
       "      <td>Profitable</td>\n",
       "      <td>38</td>\n",
       "      <td>Indigenous</td>\n",
       "      <td>Y</td>\n",
       "    </tr>\n",
       "    <tr>\n",
       "      <th>5</th>\n",
       "      <td>LP001011</td>\n",
       "      <td>Male</td>\n",
       "      <td>Yes</td>\n",
       "      <td>2</td>\n",
       "      <td>Graduate</td>\n",
       "      <td>Yes</td>\n",
       "      <td>5417</td>\n",
       "      <td>0</td>\n",
       "      <td>267</td>\n",
       "      <td>360</td>\n",
       "      <td>1</td>\n",
       "      <td>Urban</td>\n",
       "      <td>Y</td>\n",
       "      <td>PurchaseInventory</td>\n",
       "      <td>Lessthan 1year</td>\n",
       "      <td>Profit</td>\n",
       "      <td>Profitable</td>\n",
       "      <td>30</td>\n",
       "      <td>Indigenous</td>\n",
       "      <td>N</td>\n",
       "    </tr>\n",
       "    <tr>\n",
       "      <th>6</th>\n",
       "      <td>LP001013</td>\n",
       "      <td>Male</td>\n",
       "      <td>Yes</td>\n",
       "      <td>0</td>\n",
       "      <td>Not Graduate</td>\n",
       "      <td>No</td>\n",
       "      <td>2333</td>\n",
       "      <td>0</td>\n",
       "      <td>95</td>\n",
       "      <td>360</td>\n",
       "      <td>1</td>\n",
       "      <td>Urban</td>\n",
       "      <td>N</td>\n",
       "      <td>NonProfitBusness</td>\n",
       "      <td>Lessthan 1year</td>\n",
       "      <td>IncomeStatement</td>\n",
       "      <td>NonProfitable</td>\n",
       "      <td>18</td>\n",
       "      <td>Indigenous</td>\n",
       "      <td>Y</td>\n",
       "    </tr>\n",
       "    <tr>\n",
       "      <th>7</th>\n",
       "      <td>LP001014</td>\n",
       "      <td>Male</td>\n",
       "      <td>Yes</td>\n",
       "      <td>2</td>\n",
       "      <td>Graduate</td>\n",
       "      <td>No</td>\n",
       "      <td>3036</td>\n",
       "      <td>2504</td>\n",
       "      <td>158</td>\n",
       "      <td>360</td>\n",
       "      <td>0</td>\n",
       "      <td>Semiurban</td>\n",
       "      <td>N</td>\n",
       "      <td>UseasPayroll</td>\n",
       "      <td>Atleast 1year</td>\n",
       "      <td>Profit</td>\n",
       "      <td>Profitable</td>\n",
       "      <td>65</td>\n",
       "      <td>Indigenous</td>\n",
       "      <td>Y</td>\n",
       "    </tr>\n",
       "    <tr>\n",
       "      <th>8</th>\n",
       "      <td>LP001018</td>\n",
       "      <td>Male</td>\n",
       "      <td>Yes</td>\n",
       "      <td>2</td>\n",
       "      <td>Graduate</td>\n",
       "      <td>No</td>\n",
       "      <td>4006</td>\n",
       "      <td>1526</td>\n",
       "      <td>168</td>\n",
       "      <td>360</td>\n",
       "      <td>1</td>\n",
       "      <td>Urban</td>\n",
       "      <td>N</td>\n",
       "      <td>BuyAsset</td>\n",
       "      <td>Atleast 1year</td>\n",
       "      <td>FinanceProjection</td>\n",
       "      <td>Profitable</td>\n",
       "      <td>17</td>\n",
       "      <td>Foreigner</td>\n",
       "      <td>Y</td>\n",
       "    </tr>\n",
       "    <tr>\n",
       "      <th>9</th>\n",
       "      <td>LP001020</td>\n",
       "      <td>Male</td>\n",
       "      <td>Yes</td>\n",
       "      <td>1</td>\n",
       "      <td>Graduate</td>\n",
       "      <td>No</td>\n",
       "      <td>12841</td>\n",
       "      <td>10968</td>\n",
       "      <td>349</td>\n",
       "      <td>360</td>\n",
       "      <td>1</td>\n",
       "      <td>Semiurban</td>\n",
       "      <td>N</td>\n",
       "      <td>ClearDebt</td>\n",
       "      <td>Lessthan 1year</td>\n",
       "      <td>LossStatement</td>\n",
       "      <td>Profitable</td>\n",
       "      <td>80</td>\n",
       "      <td>Indigenous</td>\n",
       "      <td>N</td>\n",
       "    </tr>\n",
       "    <tr>\n",
       "      <th>10</th>\n",
       "      <td>LP001024</td>\n",
       "      <td>Male</td>\n",
       "      <td>Yes</td>\n",
       "      <td>2</td>\n",
       "      <td>Graduate</td>\n",
       "      <td>No</td>\n",
       "      <td>3200</td>\n",
       "      <td>700</td>\n",
       "      <td>70</td>\n",
       "      <td>360</td>\n",
       "      <td>1</td>\n",
       "      <td>Urban</td>\n",
       "      <td>Y</td>\n",
       "      <td>WeddingExpense</td>\n",
       "      <td>Atleast 1year</td>\n",
       "      <td>FinanceProjection</td>\n",
       "      <td>Profitable</td>\n",
       "      <td>28</td>\n",
       "      <td>Indigenous</td>\n",
       "      <td>Y</td>\n",
       "    </tr>\n",
       "    <tr>\n",
       "      <th>11</th>\n",
       "      <td>LP001027</td>\n",
       "      <td>Male</td>\n",
       "      <td>Yes</td>\n",
       "      <td>2</td>\n",
       "      <td>Graduate</td>\n",
       "      <td>Yes</td>\n",
       "      <td>2500</td>\n",
       "      <td>0</td>\n",
       "      <td>109</td>\n",
       "      <td>360</td>\n",
       "      <td>1</td>\n",
       "      <td>Urban</td>\n",
       "      <td>Y</td>\n",
       "      <td>EmergencyExpenses</td>\n",
       "      <td>Atleast 1year</td>\n",
       "      <td>Profit</td>\n",
       "      <td>Profitable</td>\n",
       "      <td>28</td>\n",
       "      <td>Indigenous</td>\n",
       "      <td>Y</td>\n",
       "    </tr>\n",
       "    <tr>\n",
       "      <th>12</th>\n",
       "      <td>LP001028</td>\n",
       "      <td>Male</td>\n",
       "      <td>Yes</td>\n",
       "      <td>2</td>\n",
       "      <td>Graduate</td>\n",
       "      <td>No</td>\n",
       "      <td>3073</td>\n",
       "      <td>0</td>\n",
       "      <td>200</td>\n",
       "      <td>360</td>\n",
       "      <td>1</td>\n",
       "      <td>Urban</td>\n",
       "      <td>Y</td>\n",
       "      <td>ImproveCashFlow</td>\n",
       "      <td>Atleast 1year</td>\n",
       "      <td>FinanceProjection</td>\n",
       "      <td>Profitable</td>\n",
       "      <td>48</td>\n",
       "      <td>Indigenous</td>\n",
       "      <td>N</td>\n",
       "    </tr>\n",
       "    <tr>\n",
       "      <th>13</th>\n",
       "      <td>LP001029</td>\n",
       "      <td>Male</td>\n",
       "      <td>No</td>\n",
       "      <td>0</td>\n",
       "      <td>Graduate</td>\n",
       "      <td>No</td>\n",
       "      <td>1853</td>\n",
       "      <td>2840</td>\n",
       "      <td>114</td>\n",
       "      <td>360</td>\n",
       "      <td>1</td>\n",
       "      <td>Rural</td>\n",
       "      <td>Y</td>\n",
       "      <td>Agriculture</td>\n",
       "      <td>Atleast 1year</td>\n",
       "      <td>Profit</td>\n",
       "      <td>Profitable</td>\n",
       "      <td>38</td>\n",
       "      <td>Indigenous</td>\n",
       "      <td>N</td>\n",
       "    </tr>\n",
       "    <tr>\n",
       "      <th>14</th>\n",
       "      <td>LP001030</td>\n",
       "      <td>Male</td>\n",
       "      <td>Yes</td>\n",
       "      <td>2</td>\n",
       "      <td>Graduate</td>\n",
       "      <td>No</td>\n",
       "      <td>1299</td>\n",
       "      <td>1086</td>\n",
       "      <td>17</td>\n",
       "      <td>120</td>\n",
       "      <td>1</td>\n",
       "      <td>Urban</td>\n",
       "      <td>N</td>\n",
       "      <td>ClearDebt</td>\n",
       "      <td>Lessthan 1year</td>\n",
       "      <td>LossStatement</td>\n",
       "      <td>NonProfitable</td>\n",
       "      <td>17</td>\n",
       "      <td>Indigenous</td>\n",
       "      <td>Y</td>\n",
       "    </tr>\n",
       "    <tr>\n",
       "      <th>15</th>\n",
       "      <td>LP001032</td>\n",
       "      <td>Male</td>\n",
       "      <td>No</td>\n",
       "      <td>0</td>\n",
       "      <td>Graduate</td>\n",
       "      <td>No</td>\n",
       "      <td>4950</td>\n",
       "      <td>2133</td>\n",
       "      <td>125</td>\n",
       "      <td>360</td>\n",
       "      <td>1</td>\n",
       "      <td>Urban</td>\n",
       "      <td>N</td>\n",
       "      <td>HouseRepair</td>\n",
       "      <td>Lessthan 1year</td>\n",
       "      <td>FinanceProjection</td>\n",
       "      <td>NonProfitabe</td>\n",
       "      <td>18</td>\n",
       "      <td>Foreigner</td>\n",
       "      <td>Y</td>\n",
       "    </tr>\n",
       "    <tr>\n",
       "      <th>16</th>\n",
       "      <td>LP001034</td>\n",
       "      <td>Male</td>\n",
       "      <td>No</td>\n",
       "      <td>1</td>\n",
       "      <td>Not Graduate</td>\n",
       "      <td>No</td>\n",
       "      <td>0</td>\n",
       "      <td>0</td>\n",
       "      <td>100</td>\n",
       "      <td>240</td>\n",
       "      <td>0</td>\n",
       "      <td>Urban</td>\n",
       "      <td>N</td>\n",
       "      <td>Agriculture</td>\n",
       "      <td>Atleast 1year</td>\n",
       "      <td>Profit</td>\n",
       "      <td>Profitabe</td>\n",
       "      <td>17</td>\n",
       "      <td>Indigenous</td>\n",
       "      <td>Y</td>\n",
       "    </tr>\n",
       "    <tr>\n",
       "      <th>17</th>\n",
       "      <td>LP001036</td>\n",
       "      <td>Female</td>\n",
       "      <td>No</td>\n",
       "      <td>0</td>\n",
       "      <td>Graduate</td>\n",
       "      <td>No</td>\n",
       "      <td>3510</td>\n",
       "      <td>36665</td>\n",
       "      <td>76</td>\n",
       "      <td>360</td>\n",
       "      <td>0</td>\n",
       "      <td>Urban</td>\n",
       "      <td>N</td>\n",
       "      <td>Agriculture</td>\n",
       "      <td>Lessthan 1year</td>\n",
       "      <td>LossStatement</td>\n",
       "      <td>Profitabe</td>\n",
       "      <td>65</td>\n",
       "      <td>Indigenous</td>\n",
       "      <td>N</td>\n",
       "    </tr>\n",
       "    <tr>\n",
       "      <th>18</th>\n",
       "      <td>LP001038</td>\n",
       "      <td>Male</td>\n",
       "      <td>Yes</td>\n",
       "      <td>0</td>\n",
       "      <td>Not Graduate</td>\n",
       "      <td>No</td>\n",
       "      <td>4887</td>\n",
       "      <td>0</td>\n",
       "      <td>133</td>\n",
       "      <td>360</td>\n",
       "      <td>0</td>\n",
       "      <td>Rural</td>\n",
       "      <td>N</td>\n",
       "      <td>PurchaseEquipment</td>\n",
       "      <td>Atleast 1year</td>\n",
       "      <td>FinanceProjection</td>\n",
       "      <td>Profitable</td>\n",
       "      <td>18</td>\n",
       "      <td>Indigenous</td>\n",
       "      <td>Y</td>\n",
       "    </tr>\n",
       "    <tr>\n",
       "      <th>19</th>\n",
       "      <td>LP001041</td>\n",
       "      <td>Male</td>\n",
       "      <td>Yes</td>\n",
       "      <td>0</td>\n",
       "      <td>Graduate</td>\n",
       "      <td>Yes</td>\n",
       "      <td>2600</td>\n",
       "      <td>0</td>\n",
       "      <td>115</td>\n",
       "      <td>360</td>\n",
       "      <td>1</td>\n",
       "      <td>Urban</td>\n",
       "      <td>Y</td>\n",
       "      <td>HouseRepair</td>\n",
       "      <td>Atleast 1year</td>\n",
       "      <td>Profit</td>\n",
       "      <td>NonProfitable</td>\n",
       "      <td>30</td>\n",
       "      <td>Foreigner</td>\n",
       "      <td>N</td>\n",
       "    </tr>\n",
       "    <tr>\n",
       "      <th>20</th>\n",
       "      <td>LP001043</td>\n",
       "      <td>Male</td>\n",
       "      <td>Yes</td>\n",
       "      <td>0</td>\n",
       "      <td>Not Graduate</td>\n",
       "      <td>No</td>\n",
       "      <td>7660</td>\n",
       "      <td>0</td>\n",
       "      <td>104</td>\n",
       "      <td>360</td>\n",
       "      <td>0</td>\n",
       "      <td>Urban</td>\n",
       "      <td>N</td>\n",
       "      <td>ClearDebt</td>\n",
       "      <td>Atleast 1year</td>\n",
       "      <td>FinanceProjection</td>\n",
       "      <td>Profitable</td>\n",
       "      <td>18</td>\n",
       "      <td>Indigenous</td>\n",
       "      <td>Y</td>\n",
       "    </tr>\n",
       "    <tr>\n",
       "      <th>21</th>\n",
       "      <td>LP001046</td>\n",
       "      <td>Male</td>\n",
       "      <td>Yes</td>\n",
       "      <td>1</td>\n",
       "      <td>Graduate</td>\n",
       "      <td>No</td>\n",
       "      <td>5955</td>\n",
       "      <td>5625</td>\n",
       "      <td>315</td>\n",
       "      <td>360</td>\n",
       "      <td>1</td>\n",
       "      <td>Urban</td>\n",
       "      <td>Y</td>\n",
       "      <td>ImproveCashFlow</td>\n",
       "      <td>Atleast 1year</td>\n",
       "      <td>LossStatement</td>\n",
       "      <td>NonProfitable</td>\n",
       "      <td>65</td>\n",
       "      <td>Foreigner</td>\n",
       "      <td>Y</td>\n",
       "    </tr>\n",
       "    <tr>\n",
       "      <th>22</th>\n",
       "      <td>LP001047</td>\n",
       "      <td>Male</td>\n",
       "      <td>Yes</td>\n",
       "      <td>0</td>\n",
       "      <td>Not Graduate</td>\n",
       "      <td>No</td>\n",
       "      <td>2600</td>\n",
       "      <td>0</td>\n",
       "      <td>116</td>\n",
       "      <td>360</td>\n",
       "      <td>0</td>\n",
       "      <td>Semiurban</td>\n",
       "      <td>N</td>\n",
       "      <td>PurchaseEquipment</td>\n",
       "      <td>Atleast 1year</td>\n",
       "      <td>IncomeStatement</td>\n",
       "      <td>NonProfitable</td>\n",
       "      <td>18</td>\n",
       "      <td>Indigenous</td>\n",
       "      <td>Y</td>\n",
       "    </tr>\n",
       "    <tr>\n",
       "      <th>23</th>\n",
       "      <td>LP001050</td>\n",
       "      <td>Male</td>\n",
       "      <td>Yes</td>\n",
       "      <td>2</td>\n",
       "      <td>Not Graduate</td>\n",
       "      <td>No</td>\n",
       "      <td>3365</td>\n",
       "      <td>0</td>\n",
       "      <td>112</td>\n",
       "      <td>360</td>\n",
       "      <td>0</td>\n",
       "      <td>Rural</td>\n",
       "      <td>N</td>\n",
       "      <td>HouseRepair</td>\n",
       "      <td>Atleast 1year</td>\n",
       "      <td>Profit</td>\n",
       "      <td>NonProfit</td>\n",
       "      <td>80</td>\n",
       "      <td>Indigenous</td>\n",
       "      <td>N</td>\n",
       "    </tr>\n",
       "    <tr>\n",
       "      <th>24</th>\n",
       "      <td>LP001052</td>\n",
       "      <td>Male</td>\n",
       "      <td>Yes</td>\n",
       "      <td>1</td>\n",
       "      <td>Graduate</td>\n",
       "      <td>Yes</td>\n",
       "      <td>3717</td>\n",
       "      <td>0</td>\n",
       "      <td>151</td>\n",
       "      <td>360</td>\n",
       "      <td>1</td>\n",
       "      <td>Semiurban</td>\n",
       "      <td>N</td>\n",
       "      <td>PayExpansionProject</td>\n",
       "      <td>Lessthan 1year</td>\n",
       "      <td>LossStatement</td>\n",
       "      <td>NonProfitable</td>\n",
       "      <td>70</td>\n",
       "      <td>Foreigner</td>\n",
       "      <td>N</td>\n",
       "    </tr>\n",
       "    <tr>\n",
       "      <th>25</th>\n",
       "      <td>LP001066</td>\n",
       "      <td>Male</td>\n",
       "      <td>Yes</td>\n",
       "      <td>0</td>\n",
       "      <td>Graduate</td>\n",
       "      <td>Yes</td>\n",
       "      <td>9560</td>\n",
       "      <td>0</td>\n",
       "      <td>191</td>\n",
       "      <td>360</td>\n",
       "      <td>1</td>\n",
       "      <td>Semiurban</td>\n",
       "      <td>Y</td>\n",
       "      <td>Agriculture</td>\n",
       "      <td>Atleast 1year</td>\n",
       "      <td>Profit</td>\n",
       "      <td>Profitable</td>\n",
       "      <td>30</td>\n",
       "      <td>Indigenous</td>\n",
       "      <td>Y</td>\n",
       "    </tr>\n",
       "    <tr>\n",
       "      <th>26</th>\n",
       "      <td>LP001068</td>\n",
       "      <td>Male</td>\n",
       "      <td>Yes</td>\n",
       "      <td>0</td>\n",
       "      <td>Graduate</td>\n",
       "      <td>No</td>\n",
       "      <td>2799</td>\n",
       "      <td>2253</td>\n",
       "      <td>122</td>\n",
       "      <td>360</td>\n",
       "      <td>1</td>\n",
       "      <td>Semiurban</td>\n",
       "      <td>Y</td>\n",
       "      <td>ImproveCashFlow</td>\n",
       "      <td>Lessthan 1year</td>\n",
       "      <td>Profit</td>\n",
       "      <td>Profitable</td>\n",
       "      <td>44</td>\n",
       "      <td>Indigenous</td>\n",
       "      <td>N</td>\n",
       "    </tr>\n",
       "    <tr>\n",
       "      <th>27</th>\n",
       "      <td>LP001073</td>\n",
       "      <td>Male</td>\n",
       "      <td>Yes</td>\n",
       "      <td>2</td>\n",
       "      <td>Not Graduate</td>\n",
       "      <td>No</td>\n",
       "      <td>4226</td>\n",
       "      <td>0</td>\n",
       "      <td>110</td>\n",
       "      <td>360</td>\n",
       "      <td>1</td>\n",
       "      <td>Urban</td>\n",
       "      <td>N</td>\n",
       "      <td>ClearDebt</td>\n",
       "      <td>Atleast 1year</td>\n",
       "      <td>IncomeStatement</td>\n",
       "      <td>Profitable</td>\n",
       "      <td>18</td>\n",
       "      <td>Indigenous</td>\n",
       "      <td>Y</td>\n",
       "    </tr>\n",
       "    <tr>\n",
       "      <th>28</th>\n",
       "      <td>LP001099</td>\n",
       "      <td>Male</td>\n",
       "      <td>Yes</td>\n",
       "      <td>2</td>\n",
       "      <td>Graduate</td>\n",
       "      <td>Yes</td>\n",
       "      <td>3036</td>\n",
       "      <td>0</td>\n",
       "      <td>116</td>\n",
       "      <td>360</td>\n",
       "      <td>1</td>\n",
       "      <td>Rural</td>\n",
       "      <td>Y</td>\n",
       "      <td>BuyAsset</td>\n",
       "      <td>Atleast 1year</td>\n",
       "      <td>Profit</td>\n",
       "      <td>Profitable</td>\n",
       "      <td>25</td>\n",
       "      <td>Indigenous</td>\n",
       "      <td>Y</td>\n",
       "    </tr>\n",
       "    <tr>\n",
       "      <th>29</th>\n",
       "      <td>LP001039</td>\n",
       "      <td>Female</td>\n",
       "      <td>Yes</td>\n",
       "      <td>1</td>\n",
       "      <td>Graduate</td>\n",
       "      <td>Yes</td>\n",
       "      <td>4990</td>\n",
       "      <td>0</td>\n",
       "      <td>300</td>\n",
       "      <td>360</td>\n",
       "      <td>1</td>\n",
       "      <td>Urban</td>\n",
       "      <td>Y</td>\n",
       "      <td>ImproveCashFlow</td>\n",
       "      <td>Atleast 1year</td>\n",
       "      <td>Profit</td>\n",
       "      <td>Profitable</td>\n",
       "      <td>40</td>\n",
       "      <td>Indigenous</td>\n",
       "      <td>Y</td>\n",
       "    </tr>\n",
       "  </tbody>\n",
       "</table>\n",
       "</div>"
      ],
      "text/plain": [
       "     Loan_ID  Gender Married  Dependents     Education Self_Employed  \\\n",
       "0   LP001002    Male      No           0      Graduate            No   \n",
       "1   LP001003    Male     Yes           1      Graduate            No   \n",
       "2   LP001005    Male     Yes           0      Graduate           Yes   \n",
       "3   LP001006    Male     Yes           0  Not Graduate            No   \n",
       "4   LP001008    Male      No           0      Graduate            No   \n",
       "5   LP001011    Male     Yes           2      Graduate           Yes   \n",
       "6   LP001013    Male     Yes           0  Not Graduate            No   \n",
       "7   LP001014    Male     Yes           2      Graduate            No   \n",
       "8   LP001018    Male     Yes           2      Graduate            No   \n",
       "9   LP001020    Male     Yes           1      Graduate            No   \n",
       "10  LP001024    Male     Yes           2      Graduate            No   \n",
       "11  LP001027    Male     Yes           2      Graduate           Yes   \n",
       "12  LP001028    Male     Yes           2      Graduate            No   \n",
       "13  LP001029    Male      No           0      Graduate            No   \n",
       "14  LP001030    Male     Yes           2      Graduate            No   \n",
       "15  LP001032    Male      No           0      Graduate            No   \n",
       "16  LP001034    Male      No           1  Not Graduate            No   \n",
       "17  LP001036  Female      No           0      Graduate            No   \n",
       "18  LP001038    Male     Yes           0  Not Graduate            No   \n",
       "19  LP001041    Male     Yes           0      Graduate           Yes   \n",
       "20  LP001043    Male     Yes           0  Not Graduate            No   \n",
       "21  LP001046    Male     Yes           1      Graduate            No   \n",
       "22  LP001047    Male     Yes           0  Not Graduate            No   \n",
       "23  LP001050    Male     Yes           2  Not Graduate            No   \n",
       "24  LP001052    Male     Yes           1      Graduate           Yes   \n",
       "25  LP001066    Male     Yes           0      Graduate           Yes   \n",
       "26  LP001068    Male     Yes           0      Graduate            No   \n",
       "27  LP001073    Male     Yes           2  Not Graduate            No   \n",
       "28  LP001099    Male     Yes           2      Graduate           Yes   \n",
       "29  LP001039  Female     Yes           1      Graduate           Yes   \n",
       "\n",
       "    ApplicantIncome  CoapplicantIncome  LoanAmount  Loan_Amount_Term  \\\n",
       "0              5849               2504         100               360   \n",
       "1              4583               1508         128               360   \n",
       "2              3000                  0          66               360   \n",
       "3              2583                  0         120               360   \n",
       "4              6000               1300         141               360   \n",
       "5              5417                  0         267               360   \n",
       "6              2333                  0          95               360   \n",
       "7              3036               2504         158               360   \n",
       "8              4006               1526         168               360   \n",
       "9             12841              10968         349               360   \n",
       "10             3200                700          70               360   \n",
       "11             2500                  0         109               360   \n",
       "12             3073                  0         200               360   \n",
       "13             1853               2840         114               360   \n",
       "14             1299               1086          17               120   \n",
       "15             4950               2133         125               360   \n",
       "16                0                  0         100               240   \n",
       "17             3510              36665          76               360   \n",
       "18             4887                  0         133               360   \n",
       "19             2600                  0         115               360   \n",
       "20             7660                  0         104               360   \n",
       "21             5955               5625         315               360   \n",
       "22             2600                  0         116               360   \n",
       "23             3365                  0         112               360   \n",
       "24             3717                  0         151               360   \n",
       "25             9560                  0         191               360   \n",
       "26             2799               2253         122               360   \n",
       "27             4226                  0         110               360   \n",
       "28             3036                  0         116               360   \n",
       "29             4990                  0         300               360   \n",
       "\n",
       "    Credit_History Property_Area Loan_Status          LoanPurpose  \\\n",
       "0                1         Urban           Y      ImproveCashFlow   \n",
       "1                1         Rural           N          HouseRepair   \n",
       "2                1         Urban           Y          Agriculture   \n",
       "3                1         Urban           N    PurchaseEquipment   \n",
       "4                1         Urban           Y  PayExpansionProject   \n",
       "5                1         Urban           Y    PurchaseInventory   \n",
       "6                1         Urban           N     NonProfitBusness   \n",
       "7                0     Semiurban           N         UseasPayroll   \n",
       "8                1         Urban           N             BuyAsset   \n",
       "9                1     Semiurban           N            ClearDebt   \n",
       "10               1         Urban           Y       WeddingExpense   \n",
       "11               1         Urban           Y    EmergencyExpenses   \n",
       "12               1         Urban           Y      ImproveCashFlow   \n",
       "13               1         Rural           Y          Agriculture   \n",
       "14               1         Urban           N            ClearDebt   \n",
       "15               1         Urban           N          HouseRepair   \n",
       "16               0         Urban           N          Agriculture   \n",
       "17               0         Urban           N          Agriculture   \n",
       "18               0         Rural           N    PurchaseEquipment   \n",
       "19               1         Urban           Y          HouseRepair   \n",
       "20               0         Urban           N            ClearDebt   \n",
       "21               1         Urban           Y      ImproveCashFlow   \n",
       "22               0     Semiurban           N    PurchaseEquipment   \n",
       "23               0         Rural           N          HouseRepair   \n",
       "24               1     Semiurban           N  PayExpansionProject   \n",
       "25               1     Semiurban           Y          Agriculture   \n",
       "26               1     Semiurban           Y      ImproveCashFlow   \n",
       "27               1         Urban           N            ClearDebt   \n",
       "28               1         Rural           Y             BuyAsset   \n",
       "29               1         Urban           Y      ImproveCashFlow   \n",
       "\n",
       "   BusnessExperience   FinanceStatement         BusnessNature  Age  \\\n",
       "0      Atleast 1year             Profit            Profitable   18   \n",
       "1     Lessthan 1year      LossStatement            Profitable   65   \n",
       "2      Atleast 1year    IncomeStatement  ProfitableProfitable   28   \n",
       "3     Lessthan 1year  FinanceProjection            Profitable   18   \n",
       "4      Atleast 1year  FinanceProjection            Profitable   38   \n",
       "5     Lessthan 1year             Profit            Profitable   30   \n",
       "6     Lessthan 1year    IncomeStatement         NonProfitable   18   \n",
       "7      Atleast 1year             Profit            Profitable   65   \n",
       "8      Atleast 1year  FinanceProjection            Profitable   17   \n",
       "9     Lessthan 1year      LossStatement            Profitable   80   \n",
       "10     Atleast 1year  FinanceProjection            Profitable   28   \n",
       "11     Atleast 1year             Profit            Profitable   28   \n",
       "12     Atleast 1year  FinanceProjection            Profitable   48   \n",
       "13     Atleast 1year             Profit            Profitable   38   \n",
       "14    Lessthan 1year      LossStatement         NonProfitable   17   \n",
       "15    Lessthan 1year  FinanceProjection          NonProfitabe   18   \n",
       "16     Atleast 1year             Profit             Profitabe   17   \n",
       "17    Lessthan 1year      LossStatement             Profitabe   65   \n",
       "18     Atleast 1year  FinanceProjection            Profitable   18   \n",
       "19     Atleast 1year             Profit         NonProfitable   30   \n",
       "20     Atleast 1year  FinanceProjection            Profitable   18   \n",
       "21     Atleast 1year      LossStatement         NonProfitable   65   \n",
       "22     Atleast 1year    IncomeStatement         NonProfitable   18   \n",
       "23     Atleast 1year             Profit             NonProfit   80   \n",
       "24    Lessthan 1year      LossStatement         NonProfitable   70   \n",
       "25     Atleast 1year             Profit            Profitable   30   \n",
       "26    Lessthan 1year             Profit            Profitable   44   \n",
       "27     Atleast 1year    IncomeStatement            Profitable   18   \n",
       "28     Atleast 1year             Profit            Profitable   25   \n",
       "29     Atleast 1year             Profit            Profitable   40   \n",
       "\n",
       "   Nationality OtherSourcesIncome  \n",
       "0   Indigenous                  Y  \n",
       "1   Indigenous                  Y  \n",
       "2   Indigenous                  Y  \n",
       "3   Indigenous                  N  \n",
       "4   Indigenous                  Y  \n",
       "5   Indigenous                  N  \n",
       "6   Indigenous                  Y  \n",
       "7   Indigenous                  Y  \n",
       "8    Foreigner                  Y  \n",
       "9   Indigenous                  N  \n",
       "10  Indigenous                  Y  \n",
       "11  Indigenous                  Y  \n",
       "12  Indigenous                  N  \n",
       "13  Indigenous                  N  \n",
       "14  Indigenous                  Y  \n",
       "15   Foreigner                  Y  \n",
       "16  Indigenous                  Y  \n",
       "17  Indigenous                  N  \n",
       "18  Indigenous                  Y  \n",
       "19   Foreigner                  N  \n",
       "20  Indigenous                  Y  \n",
       "21   Foreigner                  Y  \n",
       "22  Indigenous                  Y  \n",
       "23  Indigenous                  N  \n",
       "24   Foreigner                  N  \n",
       "25  Indigenous                  Y  \n",
       "26  Indigenous                  N  \n",
       "27  Indigenous                  Y  \n",
       "28  Indigenous                  Y  \n",
       "29  Indigenous                  Y  "
      ]
     },
     "execution_count": 89,
     "metadata": {},
     "output_type": "execute_result"
    }
   ],
   "source": [
    "dataset.head(30)"
   ]
  },
  {
   "cell_type": "code",
   "execution_count": 90,
   "metadata": {},
   "outputs": [
    {
     "data": {
      "text/html": [
       "<div>\n",
       "<style scoped>\n",
       "    .dataframe tbody tr th:only-of-type {\n",
       "        vertical-align: middle;\n",
       "    }\n",
       "\n",
       "    .dataframe tbody tr th {\n",
       "        vertical-align: top;\n",
       "    }\n",
       "\n",
       "    .dataframe thead th {\n",
       "        text-align: right;\n",
       "    }\n",
       "</style>\n",
       "<table border=\"1\" class=\"dataframe\">\n",
       "  <thead>\n",
       "    <tr style=\"text-align: right;\">\n",
       "      <th></th>\n",
       "      <th>Dependents</th>\n",
       "      <th>ApplicantIncome</th>\n",
       "      <th>CoapplicantIncome</th>\n",
       "      <th>LoanAmount</th>\n",
       "      <th>Loan_Amount_Term</th>\n",
       "      <th>Credit_History</th>\n",
       "      <th>Age</th>\n",
       "    </tr>\n",
       "  </thead>\n",
       "  <tbody>\n",
       "    <tr>\n",
       "      <th>count</th>\n",
       "      <td>30.000000</td>\n",
       "      <td>30.000000</td>\n",
       "      <td>30.000000</td>\n",
       "      <td>30.000000</td>\n",
       "      <td>30.000000</td>\n",
       "      <td>30.000000</td>\n",
       "      <td>30.000000</td>\n",
       "    </tr>\n",
       "    <tr>\n",
       "      <th>mean</th>\n",
       "      <td>0.866667</td>\n",
       "      <td>4180.933333</td>\n",
       "      <td>2387.066667</td>\n",
       "      <td>142.933333</td>\n",
       "      <td>348.000000</td>\n",
       "      <td>0.766667</td>\n",
       "      <td>36.400000</td>\n",
       "    </tr>\n",
       "    <tr>\n",
       "      <th>std</th>\n",
       "      <td>0.899553</td>\n",
       "      <td>2513.309289</td>\n",
       "      <td>6856.938901</td>\n",
       "      <td>75.559948</td>\n",
       "      <td>48.309348</td>\n",
       "      <td>0.430183</td>\n",
       "      <td>20.939321</td>\n",
       "    </tr>\n",
       "    <tr>\n",
       "      <th>min</th>\n",
       "      <td>0.000000</td>\n",
       "      <td>0.000000</td>\n",
       "      <td>0.000000</td>\n",
       "      <td>17.000000</td>\n",
       "      <td>120.000000</td>\n",
       "      <td>0.000000</td>\n",
       "      <td>17.000000</td>\n",
       "    </tr>\n",
       "    <tr>\n",
       "      <th>25%</th>\n",
       "      <td>0.000000</td>\n",
       "      <td>2649.750000</td>\n",
       "      <td>0.000000</td>\n",
       "      <td>105.250000</td>\n",
       "      <td>360.000000</td>\n",
       "      <td>1.000000</td>\n",
       "      <td>18.000000</td>\n",
       "    </tr>\n",
       "    <tr>\n",
       "      <th>50%</th>\n",
       "      <td>1.000000</td>\n",
       "      <td>3437.500000</td>\n",
       "      <td>0.000000</td>\n",
       "      <td>118.000000</td>\n",
       "      <td>360.000000</td>\n",
       "      <td>1.000000</td>\n",
       "      <td>29.000000</td>\n",
       "    </tr>\n",
       "    <tr>\n",
       "      <th>75%</th>\n",
       "      <td>2.000000</td>\n",
       "      <td>4980.000000</td>\n",
       "      <td>1981.250000</td>\n",
       "      <td>156.250000</td>\n",
       "      <td>360.000000</td>\n",
       "      <td>1.000000</td>\n",
       "      <td>47.000000</td>\n",
       "    </tr>\n",
       "    <tr>\n",
       "      <th>max</th>\n",
       "      <td>2.000000</td>\n",
       "      <td>12841.000000</td>\n",
       "      <td>36665.000000</td>\n",
       "      <td>349.000000</td>\n",
       "      <td>360.000000</td>\n",
       "      <td>1.000000</td>\n",
       "      <td>80.000000</td>\n",
       "    </tr>\n",
       "  </tbody>\n",
       "</table>\n",
       "</div>"
      ],
      "text/plain": [
       "       Dependents  ApplicantIncome  CoapplicantIncome  LoanAmount  \\\n",
       "count   30.000000        30.000000          30.000000   30.000000   \n",
       "mean     0.866667      4180.933333        2387.066667  142.933333   \n",
       "std      0.899553      2513.309289        6856.938901   75.559948   \n",
       "min      0.000000         0.000000           0.000000   17.000000   \n",
       "25%      0.000000      2649.750000           0.000000  105.250000   \n",
       "50%      1.000000      3437.500000           0.000000  118.000000   \n",
       "75%      2.000000      4980.000000        1981.250000  156.250000   \n",
       "max      2.000000     12841.000000       36665.000000  349.000000   \n",
       "\n",
       "       Loan_Amount_Term  Credit_History        Age  \n",
       "count         30.000000       30.000000  30.000000  \n",
       "mean         348.000000        0.766667  36.400000  \n",
       "std           48.309348        0.430183  20.939321  \n",
       "min          120.000000        0.000000  17.000000  \n",
       "25%          360.000000        1.000000  18.000000  \n",
       "50%          360.000000        1.000000  29.000000  \n",
       "75%          360.000000        1.000000  47.000000  \n",
       "max          360.000000        1.000000  80.000000  "
      ]
     },
     "execution_count": 90,
     "metadata": {},
     "output_type": "execute_result"
    }
   ],
   "source": [
    "dataset.describe() "
   ]
  },
  {
   "cell_type": "code",
   "execution_count": 91,
   "metadata": {},
   "outputs": [
    {
     "data": {
      "text/plain": [
       "(30, 20)"
      ]
     },
     "execution_count": 91,
     "metadata": {},
     "output_type": "execute_result"
    }
   ],
   "source": [
    "dataset.shape"
   ]
  },
  {
   "cell_type": "code",
   "execution_count": 92,
   "metadata": {},
   "outputs": [
    {
     "data": {
      "text/html": [
       "<div>\n",
       "<style scoped>\n",
       "    .dataframe tbody tr th:only-of-type {\n",
       "        vertical-align: middle;\n",
       "    }\n",
       "\n",
       "    .dataframe tbody tr th {\n",
       "        vertical-align: top;\n",
       "    }\n",
       "\n",
       "    .dataframe thead th {\n",
       "        text-align: right;\n",
       "    }\n",
       "</style>\n",
       "<table border=\"1\" class=\"dataframe\">\n",
       "  <thead>\n",
       "    <tr style=\"text-align: right;\">\n",
       "      <th>Loan_Status</th>\n",
       "      <th>N</th>\n",
       "      <th>Y</th>\n",
       "      <th>All</th>\n",
       "    </tr>\n",
       "    <tr>\n",
       "      <th>Credit_History</th>\n",
       "      <th></th>\n",
       "      <th></th>\n",
       "      <th></th>\n",
       "    </tr>\n",
       "  </thead>\n",
       "  <tbody>\n",
       "    <tr>\n",
       "      <th>0</th>\n",
       "      <td>7</td>\n",
       "      <td>0</td>\n",
       "      <td>7</td>\n",
       "    </tr>\n",
       "    <tr>\n",
       "      <th>1</th>\n",
       "      <td>9</td>\n",
       "      <td>14</td>\n",
       "      <td>23</td>\n",
       "    </tr>\n",
       "    <tr>\n",
       "      <th>All</th>\n",
       "      <td>16</td>\n",
       "      <td>14</td>\n",
       "      <td>30</td>\n",
       "    </tr>\n",
       "  </tbody>\n",
       "</table>\n",
       "</div>"
      ],
      "text/plain": [
       "Loan_Status      N   Y  All\n",
       "Credit_History             \n",
       "0                7   0    7\n",
       "1                9  14   23\n",
       "All             16  14   30"
      ]
     },
     "execution_count": 92,
     "metadata": {},
     "output_type": "execute_result"
    }
   ],
   "source": [
    "pd.crosstab(dataset['Credit_History'], dataset['Loan_Status'], margins=True)"
   ]
  },
  {
   "cell_type": "code",
   "execution_count": 93,
   "metadata": {},
   "outputs": [
    {
     "data": {
      "text/plain": [
       "<AxesSubplot:>"
      ]
     },
     "execution_count": 93,
     "metadata": {},
     "output_type": "execute_result"
    },
    {
     "data": {
      "image/png": "[encoded data removed]",
      "text/plain": [
       "<Figure size 432x288 with 1 Axes>"
      ]
     },
     "metadata": {
      "needs_background": "light"
     },
     "output_type": "display_data"
    }
   ],
   "source": [
    "#Graphs of boxplot used to detect the outliers(OUTLIERS->datapoint that differs significantly from other observations/observation that liers abnormal distance from other values) \n",
    "dataset.boxplot(column='ApplicantIncome')"
   ]
  },
  {
   "cell_type": "code",
   "execution_count": 94,
   "metadata": {},
   "outputs": [
    {
     "data": {
      "text/plain": [
       "<AxesSubplot:>"
      ]
     },
     "execution_count": 94,
     "metadata": {},
     "output_type": "execute_result"
    },
    {
     "data": {
      "image/png": "[encoded data removed]",
      "text/plain": [
       "<Figure size 432x288 with 1 Axes>"
      ]
     },
     "metadata": {
      "needs_background": "light"
     },
     "output_type": "display_data"
    }
   ],
   "source": [
    "#The graph used to show that we have to normalize the values \n",
    "dataset['ApplicantIncome'].hist(bins=20)"
   ]
  },
  {
   "cell_type": "code",
   "execution_count": 95,
   "metadata": {},
   "outputs": [
    {
     "data": {
      "text/plain": [
       "<AxesSubplot:>"
      ]
     },
     "execution_count": 95,
     "metadata": {},
     "output_type": "execute_result"
    },
    {
     "data": {
      "image/png": "[encoded data removed]",
      "text/plain": [
       "<Figure size 432x288 with 1 Axes>"
      ]
     },
     "metadata": {
      "needs_background": "light"
     },
     "output_type": "display_data"
    }
   ],
   "source": [
    "dataset['CoapplicantIncome'].hist(bins=20)"
   ]
  },
  {
   "cell_type": "code",
   "execution_count": 96,
   "metadata": {},
   "outputs": [
    {
     "data": {
      "text/plain": [
       "<AxesSubplot:title={'center':'ApplicantIncome'}, xlabel='Education'>"
      ]
     },
     "execution_count": 96,
     "metadata": {},
     "output_type": "execute_result"
    },
    {
     "data": {
      "image/png": "[encoded data removed]",
      "text/plain": [
       "<Figure size 432x288 with 1 Axes>"
      ]
     },
     "metadata": {
      "needs_background": "light"
     },
     "output_type": "display_data"
    }
   ],
   "source": [
    "#The graph show the relationship btn ApplicantIncome and Education\n",
    "dataset.boxplot(column='ApplicantIncome', by='Education')"
   ]
  },
  {
   "cell_type": "code",
   "execution_count": 97,
   "metadata": {},
   "outputs": [
    {
     "data": {
      "text/plain": [
       "<AxesSubplot:>"
      ]
     },
     "execution_count": 97,
     "metadata": {},
     "output_type": "execute_result"
    },
    {
     "data": {
      "image/png": "[encoded data removed]",
      "text/plain": [
       "<Figure size 432x288 with 1 Axes>"
      ]
     },
     "metadata": {
      "needs_background": "light"
     },
     "output_type": "display_data"
    }
   ],
   "source": [
    " #The graph again show outliers which needed to be handled\n",
    "dataset.boxplot(column='LoanAmount')"
   ]
  },
  {
   "cell_type": "code",
   "execution_count": 98,
   "metadata": {},
   "outputs": [
    {
     "data": {
      "text/plain": [
       "<AxesSubplot:>"
      ]
     },
     "execution_count": 98,
     "metadata": {},
     "output_type": "execute_result"
    },
    {
     "data": {
      "image/png": "[encoded data removed]",
      "text/plain": [
       "<Figure size 432x288 with 1 Axes>"
      ]
     },
     "metadata": {
      "needs_background": "light"
     },
     "output_type": "display_data"
    }
   ],
   "source": [
    "#The graph show the loanamount where applicants are concentrated, Needs to be normalized\n",
    "#dataset.hist(column='LoanAmount', bins=20)\n",
    "dataset['LoanAmount'].hist(bins=20)"
   ]
  },
  {
   "cell_type": "code",
   "execution_count": 99,
   "metadata": {},
   "outputs": [],
   "source": [
    "#Normalize the dataset...by apply the Logarithmic functions so as to nullfy the effects of outliers\n",
    "dataset['LoanAmount_log'] =np.log(dataset['LoanAmount'])"
   ]
  },
  {
   "cell_type": "code",
   "execution_count": 100,
   "metadata": {},
   "outputs": [
    {
     "data": {
      "text/plain": [
       "<AxesSubplot:>"
      ]
     },
     "execution_count": 100,
     "metadata": {},
     "output_type": "execute_result"
    },
    {
     "data": {
      "image/png": "[encoded data removed]",
      "text/plain": [
       "<Figure size 432x288 with 1 Axes>"
      ]
     },
     "metadata": {
      "needs_background": "light"
     },
     "output_type": "display_data"
    }
   ],
   "source": [
    "dataset['LoanAmount_log'].hist(bins=20)"
   ]
  },
  {
   "cell_type": "code",
   "execution_count": 101,
   "metadata": {},
   "outputs": [
    {
     "data": {
      "text/plain": [
       "Loan_ID               0\n",
       "Gender                0\n",
       "Married               0\n",
       "Dependents            0\n",
       "Education             0\n",
       "Self_Employed         0\n",
       "ApplicantIncome       0\n",
       "CoapplicantIncome     0\n",
       "LoanAmount            0\n",
       "Loan_Amount_Term      0\n",
       "Credit_History        0\n",
       "Property_Area         0\n",
       "Loan_Status           0\n",
       "LoanPurpose           0\n",
       "BusnessExperience     0\n",
       "FinanceStatement      0\n",
       "BusnessNature         0\n",
       "Age                   0\n",
       "Nationality           0\n",
       "OtherSourcesIncome    0\n",
       "LoanAmount_log        0\n",
       "dtype: int64"
      ]
     },
     "execution_count": 101,
     "metadata": {},
     "output_type": "execute_result"
    }
   ],
   "source": [
    "#Ask the missing values inside the datasets\n",
    "dataset.isnull().sum()"
   ]
  },
  {
   "cell_type": "code",
   "execution_count": 102,
   "metadata": {},
   "outputs": [],
   "source": [
    "#dataset['Gender'].fillna(dataset['Gender'].mode()[0],inplace=True)\n"
   ]
  },
  {
   "cell_type": "code",
   "execution_count": 103,
   "metadata": {},
   "outputs": [],
   "source": [
    "#dataset['Married'].fillna(dataset['Married'].mode()[0],inplace=True)"
   ]
  },
  {
   "cell_type": "code",
   "execution_count": 104,
   "metadata": {},
   "outputs": [],
   "source": [
    "#dataset['Dependents'].fillna(dataset['Dependents'].mode()[0], inplace=True)"
   ]
  },
  {
   "cell_type": "code",
   "execution_count": 105,
   "metadata": {},
   "outputs": [],
   "source": [
    "#dataset['Self_Employed'].fillna(dataset['Self_Employed'].mode()[0], inplace=True)"
   ]
  },
  {
   "cell_type": "code",
   "execution_count": 106,
   "metadata": {},
   "outputs": [],
   "source": [
    "#dataset.LoanAmount=dataset.LoanAmount.fillna(dataset.LoanAmount.mean())"
   ]
  },
  {
   "cell_type": "code",
   "execution_count": 107,
   "metadata": {},
   "outputs": [],
   "source": [
    "#dataset.LoanAmount_log=dataset.LoanAmount_log.fillna(dataset.LoanAmount_log.mean())"
   ]
  },
  {
   "cell_type": "code",
   "execution_count": 108,
   "metadata": {},
   "outputs": [],
   "source": [
    "#dataset['Loan_Amount_Term'].fillna(dataset['Loan_Amount_Term'].mode()[0], inplace=True)"
   ]
  },
  {
   "cell_type": "code",
   "execution_count": 109,
   "metadata": {},
   "outputs": [],
   "source": [
    "#dataset['Credit_History'].fillna(dataset['Credit_History'].mode()[0], inplace=True)"
   ]
  },
  {
   "cell_type": "code",
   "execution_count": 110,
   "metadata": {},
   "outputs": [],
   "source": [
    "#dataset['LoanPurpose'].fillna(dataset['LoanPurpose'].mode()[0], inplace=True)"
   ]
  },
  {
   "cell_type": "code",
   "execution_count": 111,
   "metadata": {},
   "outputs": [],
   "source": [
    "#dataset['BusnessExperience'].fillna(dataset['BusnessExperience'].mode()[0], inplace=True)"
   ]
  },
  {
   "cell_type": "code",
   "execution_count": 112,
   "metadata": {},
   "outputs": [],
   "source": [
    "#dataset['FinanceStatement'].fillna(dataset['FinanceStatement'].mode()[0], inplace=True)"
   ]
  },
  {
   "cell_type": "code",
   "execution_count": 113,
   "metadata": {},
   "outputs": [],
   "source": [
    "#dataset['BusnessNature'].fillna(dataset['BusnessNature'].mode()[0], inplace=True)"
   ]
  },
  {
   "cell_type": "code",
   "execution_count": 114,
   "metadata": {},
   "outputs": [],
   "source": [
    "#dataset['Age'].fillna(dataset['Age'].mode()[0], inplace=True)"
   ]
  },
  {
   "cell_type": "code",
   "execution_count": 115,
   "metadata": {},
   "outputs": [],
   "source": [
    "#dataset['Nationality'].fillna(dataset['Nationality'].mode()[0], inplace=True)"
   ]
  },
  {
   "cell_type": "code",
   "execution_count": 116,
   "metadata": {},
   "outputs": [],
   "source": [
    "#dataset['OtherSourcesIncome'].fillna(dataset['OtherSourcesIncome'].mode()[0], inplace=True)"
   ]
  },
  {
   "cell_type": "code",
   "execution_count": 117,
   "metadata": {},
   "outputs": [],
   "source": [
    "#dataset.isnull().sum()"
   ]
  },
  {
   "cell_type": "code",
   "execution_count": 118,
   "metadata": {},
   "outputs": [
    {
     "data": {
      "text/plain": [
       "(30, 21)"
      ]
     },
     "execution_count": 118,
     "metadata": {},
     "output_type": "execute_result"
    }
   ],
   "source": [
    "dataset.shape"
   ]
  },
  {
   "cell_type": "code",
   "execution_count": 119,
   "metadata": {},
   "outputs": [
    {
     "name": "stderr",
     "output_type": "stream",
     "text": [
      "C:\\Users\\JackMihayo\\anaconda3\\lib\\site-packages\\pandas\\core\\series.py:726: RuntimeWarning: divide by zero encountered in log\n",
      "  result = getattr(ufunc, method)(*inputs, **kwargs)\n"
     ]
    }
   ],
   "source": [
    "#Adding another column\n",
    "dataset['TotalIncome'] = dataset['ApplicantIncome'] + dataset['CoapplicantIncome']\n",
    "dataset['TotalIncome_log']=np.log(dataset['TotalIncome'])"
   ]
  },
  {
   "cell_type": "code",
   "execution_count": 120,
   "metadata": {},
   "outputs": [],
   "source": [
    "#dataset['TotalIncome_log'].hist(bins=20)"
   ]
  },
  {
   "cell_type": "code",
   "execution_count": 121,
   "metadata": {},
   "outputs": [
    {
     "data": {
      "text/html": [
       "<div>\n",
       "<style scoped>\n",
       "    .dataframe tbody tr th:only-of-type {\n",
       "        vertical-align: middle;\n",
       "    }\n",
       "\n",
       "    .dataframe tbody tr th {\n",
       "        vertical-align: top;\n",
       "    }\n",
       "\n",
       "    .dataframe thead th {\n",
       "        text-align: right;\n",
       "    }\n",
       "</style>\n",
       "<table border=\"1\" class=\"dataframe\">\n",
       "  <thead>\n",
       "    <tr style=\"text-align: right;\">\n",
       "      <th></th>\n",
       "      <th>Loan_ID</th>\n",
       "      <th>Gender</th>\n",
       "      <th>Married</th>\n",
       "      <th>Dependents</th>\n",
       "      <th>Education</th>\n",
       "      <th>Self_Employed</th>\n",
       "      <th>ApplicantIncome</th>\n",
       "      <th>CoapplicantIncome</th>\n",
       "      <th>LoanAmount</th>\n",
       "      <th>Loan_Amount_Term</th>\n",
       "      <th>...</th>\n",
       "      <th>LoanPurpose</th>\n",
       "      <th>BusnessExperience</th>\n",
       "      <th>FinanceStatement</th>\n",
       "      <th>BusnessNature</th>\n",
       "      <th>Age</th>\n",
       "      <th>Nationality</th>\n",
       "      <th>OtherSourcesIncome</th>\n",
       "      <th>LoanAmount_log</th>\n",
       "      <th>TotalIncome</th>\n",
       "      <th>TotalIncome_log</th>\n",
       "    </tr>\n",
       "  </thead>\n",
       "  <tbody>\n",
       "    <tr>\n",
       "      <th>0</th>\n",
       "      <td>LP001002</td>\n",
       "      <td>Male</td>\n",
       "      <td>No</td>\n",
       "      <td>0</td>\n",
       "      <td>Graduate</td>\n",
       "      <td>No</td>\n",
       "      <td>5849</td>\n",
       "      <td>2504</td>\n",
       "      <td>100</td>\n",
       "      <td>360</td>\n",
       "      <td>...</td>\n",
       "      <td>ImproveCashFlow</td>\n",
       "      <td>Atleast 1year</td>\n",
       "      <td>Profit</td>\n",
       "      <td>Profitable</td>\n",
       "      <td>18</td>\n",
       "      <td>Indigenous</td>\n",
       "      <td>Y</td>\n",
       "      <td>4.605170</td>\n",
       "      <td>8353</td>\n",
       "      <td>9.030376</td>\n",
       "    </tr>\n",
       "    <tr>\n",
       "      <th>1</th>\n",
       "      <td>LP001003</td>\n",
       "      <td>Male</td>\n",
       "      <td>Yes</td>\n",
       "      <td>1</td>\n",
       "      <td>Graduate</td>\n",
       "      <td>No</td>\n",
       "      <td>4583</td>\n",
       "      <td>1508</td>\n",
       "      <td>128</td>\n",
       "      <td>360</td>\n",
       "      <td>...</td>\n",
       "      <td>HouseRepair</td>\n",
       "      <td>Lessthan 1year</td>\n",
       "      <td>LossStatement</td>\n",
       "      <td>Profitable</td>\n",
       "      <td>65</td>\n",
       "      <td>Indigenous</td>\n",
       "      <td>Y</td>\n",
       "      <td>4.852030</td>\n",
       "      <td>6091</td>\n",
       "      <td>8.714568</td>\n",
       "    </tr>\n",
       "    <tr>\n",
       "      <th>2</th>\n",
       "      <td>LP001005</td>\n",
       "      <td>Male</td>\n",
       "      <td>Yes</td>\n",
       "      <td>0</td>\n",
       "      <td>Graduate</td>\n",
       "      <td>Yes</td>\n",
       "      <td>3000</td>\n",
       "      <td>0</td>\n",
       "      <td>66</td>\n",
       "      <td>360</td>\n",
       "      <td>...</td>\n",
       "      <td>Agriculture</td>\n",
       "      <td>Atleast 1year</td>\n",
       "      <td>IncomeStatement</td>\n",
       "      <td>ProfitableProfitable</td>\n",
       "      <td>28</td>\n",
       "      <td>Indigenous</td>\n",
       "      <td>Y</td>\n",
       "      <td>4.189655</td>\n",
       "      <td>3000</td>\n",
       "      <td>8.006368</td>\n",
       "    </tr>\n",
       "    <tr>\n",
       "      <th>3</th>\n",
       "      <td>LP001006</td>\n",
       "      <td>Male</td>\n",
       "      <td>Yes</td>\n",
       "      <td>0</td>\n",
       "      <td>Not Graduate</td>\n",
       "      <td>No</td>\n",
       "      <td>2583</td>\n",
       "      <td>0</td>\n",
       "      <td>120</td>\n",
       "      <td>360</td>\n",
       "      <td>...</td>\n",
       "      <td>PurchaseEquipment</td>\n",
       "      <td>Lessthan 1year</td>\n",
       "      <td>FinanceProjection</td>\n",
       "      <td>Profitable</td>\n",
       "      <td>18</td>\n",
       "      <td>Indigenous</td>\n",
       "      <td>N</td>\n",
       "      <td>4.787492</td>\n",
       "      <td>2583</td>\n",
       "      <td>7.856707</td>\n",
       "    </tr>\n",
       "    <tr>\n",
       "      <th>4</th>\n",
       "      <td>LP001008</td>\n",
       "      <td>Male</td>\n",
       "      <td>No</td>\n",
       "      <td>0</td>\n",
       "      <td>Graduate</td>\n",
       "      <td>No</td>\n",
       "      <td>6000</td>\n",
       "      <td>1300</td>\n",
       "      <td>141</td>\n",
       "      <td>360</td>\n",
       "      <td>...</td>\n",
       "      <td>PayExpansionProject</td>\n",
       "      <td>Atleast 1year</td>\n",
       "      <td>FinanceProjection</td>\n",
       "      <td>Profitable</td>\n",
       "      <td>38</td>\n",
       "      <td>Indigenous</td>\n",
       "      <td>Y</td>\n",
       "      <td>4.948760</td>\n",
       "      <td>7300</td>\n",
       "      <td>8.895630</td>\n",
       "    </tr>\n",
       "  </tbody>\n",
       "</table>\n",
       "<p>5 rows × 23 columns</p>\n",
       "</div>"
      ],
      "text/plain": [
       "    Loan_ID Gender Married  Dependents     Education Self_Employed  \\\n",
       "0  LP001002   Male      No           0      Graduate            No   \n",
       "1  LP001003   Male     Yes           1      Graduate            No   \n",
       "2  LP001005   Male     Yes           0      Graduate           Yes   \n",
       "3  LP001006   Male     Yes           0  Not Graduate            No   \n",
       "4  LP001008   Male      No           0      Graduate            No   \n",
       "\n",
       "   ApplicantIncome  CoapplicantIncome  LoanAmount  Loan_Amount_Term  ...  \\\n",
       "0             5849               2504         100               360  ...   \n",
       "1             4583               1508         128               360  ...   \n",
       "2             3000                  0          66               360  ...   \n",
       "3             2583                  0         120               360  ...   \n",
       "4             6000               1300         141               360  ...   \n",
       "\n",
       "           LoanPurpose BusnessExperience   FinanceStatement  \\\n",
       "0      ImproveCashFlow     Atleast 1year             Profit   \n",
       "1          HouseRepair    Lessthan 1year      LossStatement   \n",
       "2          Agriculture     Atleast 1year    IncomeStatement   \n",
       "3    PurchaseEquipment    Lessthan 1year  FinanceProjection   \n",
       "4  PayExpansionProject     Atleast 1year  FinanceProjection   \n",
       "\n",
       "          BusnessNature Age Nationality OtherSourcesIncome  LoanAmount_log  \\\n",
       "0            Profitable  18  Indigenous                  Y        4.605170   \n",
       "1            Profitable  65  Indigenous                  Y        4.852030   \n",
       "2  ProfitableProfitable  28  Indigenous                  Y        4.189655   \n",
       "3            Profitable  18  Indigenous                  N        4.787492   \n",
       "4            Profitable  38  Indigenous                  Y        4.948760   \n",
       "\n",
       "  TotalIncome TotalIncome_log  \n",
       "0        8353        9.030376  \n",
       "1        6091        8.714568  \n",
       "2        3000        8.006368  \n",
       "3        2583        7.856707  \n",
       "4        7300        8.895630  \n",
       "\n",
       "[5 rows x 23 columns]"
      ]
     },
     "execution_count": 121,
     "metadata": {},
     "output_type": "execute_result"
    }
   ],
   "source": [
    "dataset.head()\n"
   ]
  },
  {
   "cell_type": "code",
   "execution_count": 122,
   "metadata": {},
   "outputs": [
    {
     "data": {
      "text/plain": [
       "<AxesSubplot:>"
      ]
     },
     "execution_count": 122,
     "metadata": {},
     "output_type": "execute_result"
    },
    {
     "data": {
      "image/png": "[encoded data removed]",
      "text/plain": [
       "<Figure size 432x288 with 2 Axes>"
      ]
     },
     "metadata": {
      "needs_background": "light"
     },
     "output_type": "display_data"
    }
   ],
   "source": [
    "#-> is a table showing correlation coefficients between variables.\n",
    "#->Each cell in the table shows the correlation between two variables\n",
    "corr = dataset.corr()\n",
    "sns.heatmap(corr, annot=True, cmap=\"BuPu\")"
   ]
  },
  {
   "cell_type": "markdown",
   "metadata": {},
   "source": [
    "# Converting the String into encoder that  Model can  understand"
   ]
  },
  {
   "cell_type": "code",
   "execution_count": 123,
   "metadata": {},
   "outputs": [],
   "source": [
    "from sklearn import preprocessing\n",
    "le = preprocessing.LabelEncoder()\n",
    "dataset=dataset.apply(le.fit_transform)"
   ]
  },
  {
   "cell_type": "code",
   "execution_count": 124,
   "metadata": {},
   "outputs": [],
   "source": [
    "#input & output variables\n",
    "#x->for independent variables(Criteria area creditHistory, Education, HigherApplicant&CoApplicant & Gender in 80%)\n",
    "#y->for dependent variables(Self_Employed  in 20%)\n",
    "#x=dataset.iloc[:,np.r_[1:5,9:11,13:15]].values\n",
    "#independent Variables include(Education,Self_Employed,ApplicantIncome,CoapplicantIncome,LoanAmount,LoanAmounterm\n",
    "# LoanPurpose,BusnessExperience, FinaceStatement, BusnessNature, Age, Nationality, ApplicantIncome and TotalIncome)\n",
    "x=dataset.iloc[:,np.r_[4:9,11,13:22]].values\n",
    "y=dataset.iloc[:,12].values\n",
    "\n",
    "\n",
    "#x = dataset.iloc[:, [6,13,14,16,17,18,19]]\n",
    "#y = dataset.iloc[:, [1,2,4,5]]\n",
    "#x=dataset[['LoanPurpose', 'BusnessExperience', 'BusnessNature', 'Age', 'Nationality', 'ApplicantIncome']]\n",
    "#y=dataset[['Education', 'Gender', 'Self_Employed', 'Married']]"
   ]
  },
  {
   "cell_type": "code",
   "execution_count": 125,
   "metadata": {},
   "outputs": [
    {
     "data": {
      "text/html": [
       "<div>\n",
       "<style scoped>\n",
       "    .dataframe tbody tr th:only-of-type {\n",
       "        vertical-align: middle;\n",
       "    }\n",
       "\n",
       "    .dataframe tbody tr th {\n",
       "        vertical-align: top;\n",
       "    }\n",
       "\n",
       "    .dataframe thead th {\n",
       "        text-align: right;\n",
       "    }\n",
       "</style>\n",
       "<table border=\"1\" class=\"dataframe\">\n",
       "  <thead>\n",
       "    <tr style=\"text-align: right;\">\n",
       "      <th></th>\n",
       "      <th>Loan_ID</th>\n",
       "      <th>Gender</th>\n",
       "      <th>Married</th>\n",
       "      <th>Dependents</th>\n",
       "      <th>Education</th>\n",
       "      <th>Self_Employed</th>\n",
       "      <th>ApplicantIncome</th>\n",
       "      <th>CoapplicantIncome</th>\n",
       "      <th>LoanAmount</th>\n",
       "      <th>Loan_Amount_Term</th>\n",
       "      <th>...</th>\n",
       "      <th>LoanPurpose</th>\n",
       "      <th>BusnessExperience</th>\n",
       "      <th>FinanceStatement</th>\n",
       "      <th>BusnessNature</th>\n",
       "      <th>Age</th>\n",
       "      <th>Nationality</th>\n",
       "      <th>OtherSourcesIncome</th>\n",
       "      <th>LoanAmount_log</th>\n",
       "      <th>TotalIncome</th>\n",
       "      <th>TotalIncome_log</th>\n",
       "    </tr>\n",
       "  </thead>\n",
       "  <tbody>\n",
       "    <tr>\n",
       "      <th>0</th>\n",
       "      <td>0</td>\n",
       "      <td>1</td>\n",
       "      <td>0</td>\n",
       "      <td>0</td>\n",
       "      <td>0</td>\n",
       "      <td>0</td>\n",
       "      <td>22</td>\n",
       "      <td>8</td>\n",
       "      <td>5</td>\n",
       "      <td>2</td>\n",
       "      <td>...</td>\n",
       "      <td>5</td>\n",
       "      <td>0</td>\n",
       "      <td>3</td>\n",
       "      <td>4</td>\n",
       "      <td>1</td>\n",
       "      <td>1</td>\n",
       "      <td>1</td>\n",
       "      <td>5</td>\n",
       "      <td>24</td>\n",
       "      <td>24</td>\n",
       "    </tr>\n",
       "    <tr>\n",
       "      <th>1</th>\n",
       "      <td>1</td>\n",
       "      <td>1</td>\n",
       "      <td>1</td>\n",
       "      <td>1</td>\n",
       "      <td>0</td>\n",
       "      <td>0</td>\n",
       "      <td>17</td>\n",
       "      <td>4</td>\n",
       "      <td>16</td>\n",
       "      <td>2</td>\n",
       "      <td>...</td>\n",
       "      <td>4</td>\n",
       "      <td>1</td>\n",
       "      <td>2</td>\n",
       "      <td>4</td>\n",
       "      <td>9</td>\n",
       "      <td>1</td>\n",
       "      <td>1</td>\n",
       "      <td>16</td>\n",
       "      <td>20</td>\n",
       "      <td>20</td>\n",
       "    </tr>\n",
       "    <tr>\n",
       "      <th>2</th>\n",
       "      <td>2</td>\n",
       "      <td>1</td>\n",
       "      <td>1</td>\n",
       "      <td>0</td>\n",
       "      <td>0</td>\n",
       "      <td>1</td>\n",
       "      <td>8</td>\n",
       "      <td>0</td>\n",
       "      <td>1</td>\n",
       "      <td>2</td>\n",
       "      <td>...</td>\n",
       "      <td>0</td>\n",
       "      <td>0</td>\n",
       "      <td>1</td>\n",
       "      <td>5</td>\n",
       "      <td>3</td>\n",
       "      <td>1</td>\n",
       "      <td>1</td>\n",
       "      <td>1</td>\n",
       "      <td>6</td>\n",
       "      <td>6</td>\n",
       "    </tr>\n",
       "    <tr>\n",
       "      <th>3</th>\n",
       "      <td>3</td>\n",
       "      <td>1</td>\n",
       "      <td>1</td>\n",
       "      <td>0</td>\n",
       "      <td>1</td>\n",
       "      <td>0</td>\n",
       "      <td>5</td>\n",
       "      <td>0</td>\n",
       "      <td>13</td>\n",
       "      <td>2</td>\n",
       "      <td>...</td>\n",
       "      <td>8</td>\n",
       "      <td>1</td>\n",
       "      <td>0</td>\n",
       "      <td>4</td>\n",
       "      <td>1</td>\n",
       "      <td>1</td>\n",
       "      <td>0</td>\n",
       "      <td>13</td>\n",
       "      <td>4</td>\n",
       "      <td>4</td>\n",
       "    </tr>\n",
       "    <tr>\n",
       "      <th>4</th>\n",
       "      <td>4</td>\n",
       "      <td>1</td>\n",
       "      <td>0</td>\n",
       "      <td>0</td>\n",
       "      <td>0</td>\n",
       "      <td>0</td>\n",
       "      <td>24</td>\n",
       "      <td>3</td>\n",
       "      <td>18</td>\n",
       "      <td>2</td>\n",
       "      <td>...</td>\n",
       "      <td>7</td>\n",
       "      <td>0</td>\n",
       "      <td>0</td>\n",
       "      <td>4</td>\n",
       "      <td>5</td>\n",
       "      <td>1</td>\n",
       "      <td>1</td>\n",
       "      <td>18</td>\n",
       "      <td>22</td>\n",
       "      <td>22</td>\n",
       "    </tr>\n",
       "    <tr>\n",
       "      <th>5</th>\n",
       "      <td>5</td>\n",
       "      <td>1</td>\n",
       "      <td>1</td>\n",
       "      <td>2</td>\n",
       "      <td>0</td>\n",
       "      <td>1</td>\n",
       "      <td>21</td>\n",
       "      <td>0</td>\n",
       "      <td>24</td>\n",
       "      <td>2</td>\n",
       "      <td>...</td>\n",
       "      <td>9</td>\n",
       "      <td>1</td>\n",
       "      <td>3</td>\n",
       "      <td>4</td>\n",
       "      <td>4</td>\n",
       "      <td>1</td>\n",
       "      <td>0</td>\n",
       "      <td>24</td>\n",
       "      <td>17</td>\n",
       "      <td>17</td>\n",
       "    </tr>\n",
       "    <tr>\n",
       "      <th>6</th>\n",
       "      <td>6</td>\n",
       "      <td>1</td>\n",
       "      <td>1</td>\n",
       "      <td>0</td>\n",
       "      <td>1</td>\n",
       "      <td>0</td>\n",
       "      <td>3</td>\n",
       "      <td>0</td>\n",
       "      <td>4</td>\n",
       "      <td>2</td>\n",
       "      <td>...</td>\n",
       "      <td>6</td>\n",
       "      <td>1</td>\n",
       "      <td>1</td>\n",
       "      <td>2</td>\n",
       "      <td>1</td>\n",
       "      <td>1</td>\n",
       "      <td>1</td>\n",
       "      <td>4</td>\n",
       "      <td>1</td>\n",
       "      <td>1</td>\n",
       "    </tr>\n",
       "    <tr>\n",
       "      <th>7</th>\n",
       "      <td>7</td>\n",
       "      <td>1</td>\n",
       "      <td>1</td>\n",
       "      <td>2</td>\n",
       "      <td>0</td>\n",
       "      <td>0</td>\n",
       "      <td>9</td>\n",
       "      <td>8</td>\n",
       "      <td>20</td>\n",
       "      <td>2</td>\n",
       "      <td>...</td>\n",
       "      <td>10</td>\n",
       "      <td>0</td>\n",
       "      <td>3</td>\n",
       "      <td>4</td>\n",
       "      <td>9</td>\n",
       "      <td>1</td>\n",
       "      <td>1</td>\n",
       "      <td>20</td>\n",
       "      <td>19</td>\n",
       "      <td>19</td>\n",
       "    </tr>\n",
       "    <tr>\n",
       "      <th>8</th>\n",
       "      <td>8</td>\n",
       "      <td>1</td>\n",
       "      <td>1</td>\n",
       "      <td>2</td>\n",
       "      <td>0</td>\n",
       "      <td>0</td>\n",
       "      <td>15</td>\n",
       "      <td>5</td>\n",
       "      <td>21</td>\n",
       "      <td>2</td>\n",
       "      <td>...</td>\n",
       "      <td>1</td>\n",
       "      <td>0</td>\n",
       "      <td>0</td>\n",
       "      <td>4</td>\n",
       "      <td>0</td>\n",
       "      <td>0</td>\n",
       "      <td>1</td>\n",
       "      <td>21</td>\n",
       "      <td>18</td>\n",
       "      <td>18</td>\n",
       "    </tr>\n",
       "    <tr>\n",
       "      <th>9</th>\n",
       "      <td>9</td>\n",
       "      <td>1</td>\n",
       "      <td>1</td>\n",
       "      <td>1</td>\n",
       "      <td>0</td>\n",
       "      <td>0</td>\n",
       "      <td>27</td>\n",
       "      <td>11</td>\n",
       "      <td>27</td>\n",
       "      <td>2</td>\n",
       "      <td>...</td>\n",
       "      <td>2</td>\n",
       "      <td>1</td>\n",
       "      <td>2</td>\n",
       "      <td>4</td>\n",
       "      <td>11</td>\n",
       "      <td>1</td>\n",
       "      <td>0</td>\n",
       "      <td>27</td>\n",
       "      <td>27</td>\n",
       "      <td>27</td>\n",
       "    </tr>\n",
       "  </tbody>\n",
       "</table>\n",
       "<p>10 rows × 23 columns</p>\n",
       "</div>"
      ],
      "text/plain": [
       "   Loan_ID  Gender  Married  Dependents  Education  Self_Employed  \\\n",
       "0        0       1        0           0          0              0   \n",
       "1        1       1        1           1          0              0   \n",
       "2        2       1        1           0          0              1   \n",
       "3        3       1        1           0          1              0   \n",
       "4        4       1        0           0          0              0   \n",
       "5        5       1        1           2          0              1   \n",
       "6        6       1        1           0          1              0   \n",
       "7        7       1        1           2          0              0   \n",
       "8        8       1        1           2          0              0   \n",
       "9        9       1        1           1          0              0   \n",
       "\n",
       "   ApplicantIncome  CoapplicantIncome  LoanAmount  Loan_Amount_Term  ...  \\\n",
       "0               22                  8           5                 2  ...   \n",
       "1               17                  4          16                 2  ...   \n",
       "2                8                  0           1                 2  ...   \n",
       "3                5                  0          13                 2  ...   \n",
       "4               24                  3          18                 2  ...   \n",
       "5               21                  0          24                 2  ...   \n",
       "6                3                  0           4                 2  ...   \n",
       "7                9                  8          20                 2  ...   \n",
       "8               15                  5          21                 2  ...   \n",
       "9               27                 11          27                 2  ...   \n",
       "\n",
       "   LoanPurpose  BusnessExperience  FinanceStatement  BusnessNature  Age  \\\n",
       "0            5                  0                 3              4    1   \n",
       "1            4                  1                 2              4    9   \n",
       "2            0                  0                 1              5    3   \n",
       "3            8                  1                 0              4    1   \n",
       "4            7                  0                 0              4    5   \n",
       "5            9                  1                 3              4    4   \n",
       "6            6                  1                 1              2    1   \n",
       "7           10                  0                 3              4    9   \n",
       "8            1                  0                 0              4    0   \n",
       "9            2                  1                 2              4   11   \n",
       "\n",
       "   Nationality  OtherSourcesIncome  LoanAmount_log  TotalIncome  \\\n",
       "0            1                   1               5           24   \n",
       "1            1                   1              16           20   \n",
       "2            1                   1               1            6   \n",
       "3            1                   0              13            4   \n",
       "4            1                   1              18           22   \n",
       "5            1                   0              24           17   \n",
       "6            1                   1               4            1   \n",
       "7            1                   1              20           19   \n",
       "8            0                   1              21           18   \n",
       "9            1                   0              27           27   \n",
       "\n",
       "   TotalIncome_log  \n",
       "0               24  \n",
       "1               20  \n",
       "2                6  \n",
       "3                4  \n",
       "4               22  \n",
       "5               17  \n",
       "6                1  \n",
       "7               19  \n",
       "8               18  \n",
       "9               27  \n",
       "\n",
       "[10 rows x 23 columns]"
      ]
     },
     "execution_count": 125,
     "metadata": {},
     "output_type": "execute_result"
    }
   ],
   "source": [
    "dataset.head(10)"
   ]
  },
  {
   "cell_type": "code",
   "execution_count": 126,
   "metadata": {},
   "outputs": [
    {
     "data": {
      "text/plain": [
       "array([[ 0,  0, 22,  8,  5,  2,  5,  0,  3,  4,  1,  1,  1,  5, 24],\n",
       "       [ 0,  0, 17,  4, 16,  0,  4,  1,  2,  4,  9,  1,  1, 16, 20],\n",
       "       [ 0,  1,  8,  0,  1,  2,  0,  0,  1,  5,  3,  1,  1,  1,  6],\n",
       "       [ 1,  0,  5,  0, 13,  2,  8,  1,  0,  4,  1,  1,  0, 13,  4],\n",
       "       [ 0,  0, 24,  3, 18,  2,  7,  0,  0,  4,  5,  1,  1, 18, 22],\n",
       "       [ 0,  1, 21,  0, 24,  2,  9,  1,  3,  4,  4,  1,  0, 24, 17],\n",
       "       [ 1,  0,  3,  0,  4,  2,  6,  1,  1,  2,  1,  1,  1,  4,  1],\n",
       "       [ 0,  0,  9,  8, 20,  1, 10,  0,  3,  4,  9,  1,  1, 20, 19],\n",
       "       [ 0,  0, 15,  5, 21,  2,  1,  0,  0,  4,  0,  0,  1, 21, 18],\n",
       "       [ 0,  0, 27, 11, 27,  1,  2,  1,  2,  4, 11,  1,  0, 27, 27],\n",
       "       [ 0,  0, 11,  1,  2,  2, 11,  0,  0,  4,  3,  1,  1,  2, 11],\n",
       "       [ 0,  1,  4,  0,  7,  2,  3,  0,  3,  4,  3,  1,  1,  7,  3],\n",
       "       [ 0,  0, 10,  0, 23,  2,  5,  0,  0,  4,  8,  1,  0, 23,  8],\n",
       "       [ 0,  0,  2,  9, 10,  0,  0,  0,  3,  4,  5,  1,  0, 10, 13],\n",
       "       [ 0,  0,  1,  2,  0,  2,  2,  1,  2,  2,  0,  1,  1,  0,  2],\n",
       "       [ 0,  0, 19,  6, 15,  2,  4,  1,  0,  1,  1,  0,  1, 15, 21],\n",
       "       [ 1,  0,  0,  0,  5,  2,  0,  0,  3,  3,  0,  1,  1,  5,  0],\n",
       "       [ 0,  0, 13, 12,  3,  2,  0,  1,  2,  3,  9,  1,  0,  3, 28],\n",
       "       [ 1,  0, 18,  0, 17,  0,  8,  0,  0,  4,  1,  1,  1, 17, 14],\n",
       "       [ 0,  1,  6,  0, 11,  2,  4,  0,  3,  2,  4,  0,  0, 11,  5],\n",
       "       [ 1,  0, 25,  0,  6,  2,  2,  0,  0,  4,  1,  1,  1,  6, 23],\n",
       "       [ 0,  0, 23, 10, 26,  2,  5,  0,  2,  2,  9,  0,  1, 26, 26],\n",
       "       [ 1,  0,  6,  0, 12,  1,  8,  0,  1,  2,  1,  1,  1, 12,  5],\n",
       "       [ 1,  0, 12,  0,  9,  0,  4,  0,  3,  0, 11,  1,  0,  9,  9],\n",
       "       [ 0,  1, 14,  0, 19,  1,  7,  1,  2,  2, 10,  0,  0, 19, 10],\n",
       "       [ 0,  1, 26,  0, 22,  1,  0,  0,  3,  4,  4,  1,  1, 22, 25],\n",
       "       [ 0,  0,  7,  7, 14,  1,  5,  1,  3,  4,  7,  1,  0, 14, 16],\n",
       "       [ 1,  0, 16,  0,  8,  2,  2,  0,  1,  4,  1,  1,  1,  8, 12],\n",
       "       [ 0,  1,  9,  0, 12,  0,  1,  0,  3,  4,  2,  1,  1, 12,  7],\n",
       "       [ 0,  1, 20,  0, 25,  2,  5,  0,  3,  4,  6,  1,  1, 25, 15]],\n",
       "      dtype=int64)"
      ]
     },
     "execution_count": 126,
     "metadata": {},
     "output_type": "execute_result"
    }
   ],
   "source": [
    "x"
   ]
  },
  {
   "cell_type": "code",
   "execution_count": 127,
   "metadata": {},
   "outputs": [
    {
     "data": {
      "text/plain": [
       "array([1, 0, 1, 0, 1, 1, 0, 0, 0, 0, 1, 1, 1, 1, 0, 0, 0, 0, 0, 1, 0, 1,\n",
       "       0, 0, 0, 1, 1, 0, 1, 1])"
      ]
     },
     "execution_count": 127,
     "metadata": {},
     "output_type": "execute_result"
    }
   ],
   "source": [
    "y"
   ]
  },
  {
   "cell_type": "code",
   "execution_count": 128,
   "metadata": {},
   "outputs": [],
   "source": [
    "from sklearn.model_selection import train_test_split\n",
    "x_train, x_test, y_train, y_test = train_test_split(x, y, test_size=0.2, random_state=0)"
   ]
  },
  {
   "cell_type": "code",
   "execution_count": 129,
   "metadata": {},
   "outputs": [
    {
     "name": "stdout",
     "output_type": "stream",
     "text": [
      "[[ 1  0 16  0  8  2  2  0  1  4  1  1  1  8 12]\n",
      " [ 0  1  4  0  7  2  3  0  3  4  3  1  1  7  3]\n",
      " [ 0  0 13 12  3  2  0  1  2  3  9  1  0  3 28]\n",
      " [ 1  0  6  0 12  1  8  0  1  2  1  1  1 12  5]\n",
      " [ 0  1 21  0 24  2  9  1  3  4  4  1  0 24 17]\n",
      " [ 1  0  0  0  5  2  0  0  3  3  0  1  1  5  0]\n",
      " [ 0  0 15  5 21  2  1  0  0  4  0  0  1 21 18]\n",
      " [ 0  0  1  2  0  2  2  1  2  2  0  1  1  0  2]\n",
      " [ 1  0 12  0  9  0  4  0  3  0 11  1  0  9  9]\n",
      " [ 1  0 25  0  6  2  2  0  0  4  1  1  1  6 23]\n",
      " [ 0  0 17  4 16  0  4  1  2  4  9  1  1 16 20]\n",
      " [ 0  1 20  0 25  2  5  0  3  4  6  1  1 25 15]\n",
      " [ 1  0  3  0  4  2  6  1  1  2  1  1  1  4  1]\n",
      " [ 0  0 24  3 18  2  7  0  0  4  5  1  1 18 22]\n",
      " [ 1  0 18  0 17  0  8  0  0  4  1  1  1 17 14]\n",
      " [ 0  1  6  0 11  2  4  0  3  2  4  0  0 11  5]\n",
      " [ 0  0 27 11 27  1  2  1  2  4 11  1  0 27 27]\n",
      " [ 0  0  9  8 20  1 10  0  3  4  9  1  1 20 19]\n",
      " [ 0  1 26  0 22  1  0  0  3  4  4  1  1 22 25]\n",
      " [ 1  0  5  0 13  2  8  1  0  4  1  1  0 13  4]\n",
      " [ 0  0 22  8  5  2  5  0  3  4  1  1  1  5 24]\n",
      " [ 0  0 23 10 26  2  5  0  2  2  9  0  1 26 26]\n",
      " [ 0  0 19  6 15  2  4  1  0  1  1  0  1 15 21]\n",
      " [ 0  0 10  0 23  2  5  0  0  4  8  1  0 23  8]]\n"
     ]
    }
   ],
   "source": [
    "print(x_train)"
   ]
  },
  {
   "cell_type": "code",
   "execution_count": 130,
   "metadata": {},
   "outputs": [],
   "source": [
    "#Label Encoding\n",
    "from sklearn.preprocessing import LabelEncoder\n",
    "labelencoder_x = LabelEncoder()"
   ]
  },
  {
   "cell_type": "code",
   "execution_count": 131,
   "metadata": {},
   "outputs": [],
   "source": [
    "#Navigate the label encoding thru specific x_train values \n",
    "for i in range(0, 5):\n",
    "    x_train[:,i] = labelencoder_x.fit_transform(x_train[:,i])"
   ]
  },
  {
   "cell_type": "code",
   "execution_count": 132,
   "metadata": {},
   "outputs": [],
   "source": [
    "x_train[:,7]= labelencoder_x.fit_transform(x_train[:,7])"
   ]
  },
  {
   "cell_type": "code",
   "execution_count": 133,
   "metadata": {},
   "outputs": [
    {
     "data": {
      "text/plain": [
       "array([[ 1,  0, 11,  0,  6,  2,  2,  0,  1,  4,  1,  1,  1,  8, 12],\n",
       "       [ 0,  1,  3,  0,  5,  2,  3,  0,  3,  4,  3,  1,  1,  7,  3],\n",
       "       [ 0,  0,  9,  9,  1,  2,  0,  1,  2,  3,  9,  1,  0,  3, 28],\n",
       "       [ 1,  0,  5,  0,  9,  1,  8,  0,  1,  2,  1,  1,  1, 12,  5],\n",
       "       [ 0,  1, 16,  0, 19,  2,  9,  1,  3,  4,  4,  1,  0, 24, 17],\n",
       "       [ 1,  0,  0,  0,  3,  2,  0,  0,  3,  3,  0,  1,  1,  5,  0],\n",
       "       [ 0,  0, 10,  4, 16,  2,  1,  0,  0,  4,  0,  0,  1, 21, 18],\n",
       "       [ 0,  0,  1,  1,  0,  2,  2,  1,  2,  2,  0,  1,  1,  0,  2],\n",
       "       [ 1,  0,  8,  0,  7,  0,  4,  0,  3,  0, 11,  1,  0,  9,  9],\n",
       "       [ 1,  0, 20,  0,  4,  2,  2,  0,  0,  4,  1,  1,  1,  6, 23],\n",
       "       [ 0,  0, 12,  3, 12,  0,  4,  1,  2,  4,  9,  1,  1, 16, 20],\n",
       "       [ 0,  1, 15,  0, 20,  2,  5,  0,  3,  4,  6,  1,  1, 25, 15],\n",
       "       [ 1,  0,  2,  0,  2,  2,  6,  1,  1,  2,  1,  1,  1,  4,  1],\n",
       "       [ 0,  0, 19,  2, 14,  2,  7,  0,  0,  4,  5,  1,  1, 18, 22],\n",
       "       [ 1,  0, 13,  0, 13,  0,  8,  0,  0,  4,  1,  1,  1, 17, 14],\n",
       "       [ 0,  1,  5,  0,  8,  2,  4,  0,  3,  2,  4,  0,  0, 11,  5],\n",
       "       [ 0,  0, 22,  8, 22,  1,  2,  1,  2,  4, 11,  1,  0, 27, 27],\n",
       "       [ 0,  0,  6,  6, 15,  1, 10,  0,  3,  4,  9,  1,  1, 20, 19],\n",
       "       [ 0,  1, 21,  0, 17,  1,  0,  0,  3,  4,  4,  1,  1, 22, 25],\n",
       "       [ 1,  0,  4,  0, 10,  2,  8,  1,  0,  4,  1,  1,  0, 13,  4],\n",
       "       [ 0,  0, 17,  6,  3,  2,  5,  0,  3,  4,  1,  1,  1,  5, 24],\n",
       "       [ 0,  0, 18,  7, 21,  2,  5,  0,  2,  2,  9,  0,  1, 26, 26],\n",
       "       [ 0,  0, 14,  5, 11,  2,  4,  1,  0,  1,  1,  0,  1, 15, 21],\n",
       "       [ 0,  0,  7,  0, 18,  2,  5,  0,  0,  4,  8,  1,  0, 23,  8]],\n",
       "      dtype=int64)"
      ]
     },
     "execution_count": 133,
     "metadata": {},
     "output_type": "execute_result"
    }
   ],
   "source": [
    "x_train"
   ]
  },
  {
   "cell_type": "code",
   "execution_count": 134,
   "metadata": {},
   "outputs": [],
   "source": [
    "labelencoder_y = LabelEncoder()"
   ]
  },
  {
   "cell_type": "code",
   "execution_count": 135,
   "metadata": {},
   "outputs": [],
   "source": [
    "y_train = labelencoder_y.fit_transform(y_train)"
   ]
  },
  {
   "cell_type": "code",
   "execution_count": 136,
   "metadata": {},
   "outputs": [
    {
     "data": {
      "text/plain": [
       "array([0, 1, 0, 0, 1, 0, 0, 0, 0, 0, 0, 1, 0, 1, 0, 1, 0, 0, 1, 0, 1, 1,\n",
       "       0, 1], dtype=int64)"
      ]
     },
     "execution_count": 136,
     "metadata": {},
     "output_type": "execute_result"
    }
   ],
   "source": [
    "y_train"
   ]
  },
  {
   "cell_type": "code",
   "execution_count": 137,
   "metadata": {},
   "outputs": [],
   "source": [
    "for i in range(0, 5):\n",
    "    x_test[:,i] = labelencoder_x.fit_transform(x_test[:,i])"
   ]
  },
  {
   "cell_type": "code",
   "execution_count": 138,
   "metadata": {},
   "outputs": [],
   "source": [
    "x_test[:,7]= labelencoder_x.fit_transform(x_test[:,7])"
   ]
  },
  {
   "cell_type": "code",
   "execution_count": 139,
   "metadata": {},
   "outputs": [],
   "source": [
    "labelencoder_y = LabelEncoder()\n",
    "y_test = labelencoder_y.fit_transform(y_test)"
   ]
  },
  {
   "cell_type": "code",
   "execution_count": 140,
   "metadata": {},
   "outputs": [
    {
     "data": {
      "text/plain": [
       "array([[ 0,  1,  2,  0,  0,  2,  0,  0,  1,  5,  3,  1,  1,  1,  6],\n",
       "       [ 0,  1,  3,  0,  3,  0,  1,  0,  3,  4,  2,  1,  1, 12,  7],\n",
       "       [ 0,  0,  0,  3,  2,  0,  0,  0,  3,  4,  5,  1,  0, 10, 13],\n",
       "       [ 0,  0,  4,  1,  1,  2, 11,  0,  0,  4,  3,  1,  1,  2, 11],\n",
       "       [ 0,  0,  1,  2,  4,  1,  5,  1,  3,  4,  7,  1,  0, 14, 16],\n",
       "       [ 0,  1,  5,  0,  5,  1,  7,  1,  2,  2, 10,  0,  0, 19, 10]],\n",
       "      dtype=int64)"
      ]
     },
     "execution_count": 140,
     "metadata": {},
     "output_type": "execute_result"
    }
   ],
   "source": [
    "x_test"
   ]
  },
  {
   "cell_type": "code",
   "execution_count": 141,
   "metadata": {},
   "outputs": [
    {
     "data": {
      "text/plain": [
       "array([1, 1, 1, 1, 1, 0], dtype=int64)"
      ]
     },
     "execution_count": 141,
     "metadata": {},
     "output_type": "execute_result"
    }
   ],
   "source": [
    "y_test"
   ]
  },
  {
   "cell_type": "code",
   "execution_count": null,
   "metadata": {},
   "outputs": [],
   "source": []
  },
  {
   "cell_type": "code",
   "execution_count": null,
   "metadata": {},
   "outputs": [],
   "source": []
  },
  {
   "cell_type": "code",
   "execution_count": 142,
   "metadata": {},
   "outputs": [],
   "source": [
    "#Standard Scale\n",
    "from sklearn.preprocessing import StandardScaler\n",
    "ss =StandardScaler()\n",
    "x_train = ss.fit_transform(x_train)\n",
    "x_test = ss.fit_transform(x_test)"
   ]
  },
  {
   "cell_type": "markdown",
   "metadata": {},
   "source": [
    "# ALGORITHM & ACCURACY"
   ]
  },
  {
   "cell_type": "code",
   "execution_count": 155,
   "metadata": {},
   "outputs": [
    {
     "data": {
      "text/plain": [
       "DecisionTreeClassifier(criterion='entropy', random_state=0)"
      ]
     },
     "execution_count": 155,
     "metadata": {},
     "output_type": "execute_result"
    }
   ],
   "source": [
    "#introduce trained data to Decision Tree classifier Algorithm\n",
    "from sklearn.tree import DecisionTreeClassifier\n",
    "DTClassifier = DecisionTreeClassifier(criterion='entropy', random_state=0)\n",
    "DTClassifier.fit(x_train, y_train)"
   ]
  },
  {
   "cell_type": "code",
   "execution_count": 156,
   "metadata": {},
   "outputs": [
    {
     "data": {
      "text/plain": [
       "array([1, 1, 0, 0, 1, 1], dtype=int64)"
      ]
     },
     "execution_count": 156,
     "metadata": {},
     "output_type": "execute_result"
    }
   ],
   "source": [
    "#The model predict these data\n",
    "y_pred_D = DTClassifier.predict(x_test)\n",
    "y_pred_D"
   ]
  },
  {
   "cell_type": "code",
   "execution_count": 157,
   "metadata": {},
   "outputs": [
    {
     "name": "stdout",
     "output_type": "stream",
     "text": [
      "The accuracy of DecisionTree is:  50.0\n"
     ]
    }
   ],
   "source": [
    "\n",
    "print('The accuracy of DecisionTree is: ', metrics.accuracy_score(y_pred_D, y_test)*100) "
   ]
  },
  {
   "cell_type": "code",
   "execution_count": 158,
   "metadata": {},
   "outputs": [
    {
     "data": {
      "text/plain": [
       "GaussianNB()"
      ]
     },
     "execution_count": 158,
     "metadata": {},
     "output_type": "execute_result"
    }
   ],
   "source": [
    "from sklearn.naive_bayes import GaussianNB\n",
    "NBClassifier = GaussianNB()\n",
    "NBClassifier.fit(x_train, y_train)"
   ]
  },
  {
   "cell_type": "code",
   "execution_count": 159,
   "metadata": {},
   "outputs": [],
   "source": [
    "y_pred_N = NBClassifier.predict(x_test)"
   ]
  },
  {
   "cell_type": "code",
   "execution_count": 160,
   "metadata": {},
   "outputs": [
    {
     "data": {
      "text/plain": [
       "array([1, 1, 0, 0, 0, 1], dtype=int64)"
      ]
     },
     "execution_count": 160,
     "metadata": {},
     "output_type": "execute_result"
    }
   ],
   "source": [
    "y_pred_N"
   ]
  },
  {
   "cell_type": "code",
   "execution_count": 161,
   "metadata": {},
   "outputs": [
    {
     "name": "stdout",
     "output_type": "stream",
     "text": [
      "The accuracy of Naive Bayes is:  33.33333333333333\n"
     ]
    }
   ],
   "source": [
    "print('The accuracy of Naive Bayes is: ', metrics.accuracy_score(y_pred_N, y_test)*100)"
   ]
  },
  {
   "cell_type": "code",
   "execution_count": 166,
   "metadata": {},
   "outputs": [
    {
     "data": {
      "text/plain": [
       "array([0, 1, 0, 0, 0, 1], dtype=int64)"
      ]
     },
     "execution_count": 166,
     "metadata": {},
     "output_type": "execute_result"
    }
   ],
   "source": [
    "from sklearn.ensemble import RandomForestClassifier\n",
    "RandFclassifier = RandomForestClassifier(n_estimators=30)\n",
    "RandFclassifier.fit(x_train, y_train)\n",
    "y_pred_R =RandFclassifier.predict(x_test)\n",
    "y_pred_R"
   ]
  },
  {
   "cell_type": "code",
   "execution_count": 167,
   "metadata": {},
   "outputs": [
    {
     "name": "stdout",
     "output_type": "stream",
     "text": [
      "The accuracy of Random Forest is:  16.666666666666664\n"
     ]
    }
   ],
   "source": [
    "print('The accuracy of Random Forest is: ', metrics.accuracy_score(y_pred_R, y_test)*100)"
   ]
  },
  {
   "cell_type": "code",
   "execution_count": 168,
   "metadata": {},
   "outputs": [
    {
     "name": "stdout",
     "output_type": "stream",
     "text": [
      "The accuracy of ExtraTrees is:  16.666666666666664\n"
     ]
    }
   ],
   "source": [
    "from sklearn.ensemble import ExtraTreesClassifier\n",
    "Extratreesclassifier = ExtraTreesClassifier()\n",
    "Extratreesclassifier.fit(x_train, y_train)\n",
    "y_pred_E =Extratreesclassifier.predict(x_test)\n",
    "y_pred_E\n",
    "print('The accuracy of ExtraTrees is: ', metrics.accuracy_score(y_pred_E, y_test)*100)"
   ]
  },
  {
   "cell_type": "markdown",
   "metadata": {},
   "source": [
    "# CONFUSION MATRIX"
   ]
  },
  {
   "cell_type": "code",
   "execution_count": 169,
   "metadata": {},
   "outputs": [
    {
     "data": {
      "text/plain": [
       "array([[0, 1],\n",
       "       [2, 3]], dtype=int64)"
      ]
     },
     "execution_count": 169,
     "metadata": {},
     "output_type": "execute_result"
    }
   ],
   "source": [
    "#->Monitoring & Manage the model performance classification \n",
    "#->summary of prediction results on classification problem, number of correct and incorrect\n",
    "#->predictions  are summarized count values and broken values by each class \n",
    "#->It gives us the insight not only to the errors being made by classifier \n",
    "#->More important gives the type of errors are being made\n",
    "DTClassifier = DecisionTreeClassifier(criterion='entropy', random_state=0)\n",
    "DTClassifier.fit(x_train, y_train)\n",
    "from sklearn.metrics import confusion_matrix\n",
    "y_pred = DTClassifier.predict(x_test)\n",
    "cm = confusion_matrix(y_test, y_pred)\n",
    "cm"
   ]
  },
  {
   "cell_type": "code",
   "execution_count": 172,
   "metadata": {},
   "outputs": [
    {
     "data": {
      "text/plain": [
       "<AxesSubplot:>"
      ]
     },
     "execution_count": 172,
     "metadata": {},
     "output_type": "execute_result"
    },
    {
     "data": {
      "image/png": "[encoded data removed]",
      "text/plain": [
       "<Figure size 432x288 with 2 Axes>"
      ]
     },
     "metadata": {
      "needs_background": "light"
     },
     "output_type": "display_data"
    }
   ],
   "source": [
    "#Predicted value vs Actual Value\n",
    "sns.heatmap(cm, annot=True)"
   ]
  },
  {
   "cell_type": "code",
   "execution_count": null,
   "metadata": {},
   "outputs": [],
   "source": []
  },
  {
   "cell_type": "code",
   "execution_count": null,
   "metadata": {},
   "outputs": [],
   "source": []
  },
  {
   "cell_type": "code",
   "execution_count": null,
   "metadata": {},
   "outputs": [],
   "source": []
  },
  {
   "cell_type": "code",
   "execution_count": null,
   "metadata": {},
   "outputs": [],
   "source": []
  },
  {
   "cell_type": "code",
   "execution_count": null,
   "metadata": {},
   "outputs": [],
   "source": []
  },
  {
   "cell_type": "code",
   "execution_count": null,
   "metadata": {},
   "outputs": [],
   "source": []
  },
  {
   "cell_type": "code",
   "execution_count": null,
   "metadata": {},
   "outputs": [],
   "source": []
  },
  {
   "cell_type": "code",
   "execution_count": null,
   "metadata": {},
   "outputs": [],
   "source": []
  },
  {
   "cell_type": "code",
   "execution_count": null,
   "metadata": {},
   "outputs": [],
   "source": []
  },
  {
   "cell_type": "code",
   "execution_count": null,
   "metadata": {},
   "outputs": [],
   "source": []
  },
  {
   "cell_type": "code",
   "execution_count": null,
   "metadata": {},
   "outputs": [],
   "source": []
  },
  {
   "cell_type": "code",
   "execution_count": null,
   "metadata": {},
   "outputs": [],
   "source": []
  },
  {
   "cell_type": "code",
   "execution_count": null,
   "metadata": {},
   "outputs": [],
   "source": []
  },
  {
   "cell_type": "code",
   "execution_count": null,
   "metadata": {},
   "outputs": [],
   "source": []
  },
  {
   "cell_type": "code",
   "execution_count": null,
   "metadata": {},
   "outputs": [],
   "source": []
  },
  {
   "cell_type": "code",
   "execution_count": null,
   "metadata": {},
   "outputs": [],
   "source": []
  },
  {
   "cell_type": "code",
   "execution_count": null,
   "metadata": {},
   "outputs": [],
   "source": []
  },
  {
   "cell_type": "code",
   "execution_count": null,
   "metadata": {},
   "outputs": [],
   "source": []
  },
  {
   "cell_type": "code",
   "execution_count": null,
   "metadata": {},
   "outputs": [],
   "source": []
  },
  {
   "cell_type": "code",
   "execution_count": null,
   "metadata": {},
   "outputs": [],
   "source": []
  },
  {
   "cell_type": "markdown",
   "metadata": {},
   "source": [
    "# TESTING"
   ]
  },
  {
   "cell_type": "code",
   "execution_count": 70,
   "metadata": {},
   "outputs": [],
   "source": [
    "testdata = pd.read_csv('test.csv')"
   ]
  },
  {
   "cell_type": "code",
   "execution_count": 71,
   "metadata": {},
   "outputs": [
    {
     "data": {
      "text/html": [
       "<div>\n",
       "<style scoped>\n",
       "    .dataframe tbody tr th:only-of-type {\n",
       "        vertical-align: middle;\n",
       "    }\n",
       "\n",
       "    .dataframe tbody tr th {\n",
       "        vertical-align: top;\n",
       "    }\n",
       "\n",
       "    .dataframe thead th {\n",
       "        text-align: right;\n",
       "    }\n",
       "</style>\n",
       "<table border=\"1\" class=\"dataframe\">\n",
       "  <thead>\n",
       "    <tr style=\"text-align: right;\">\n",
       "      <th></th>\n",
       "      <th>Loan_ID</th>\n",
       "      <th>Gender</th>\n",
       "      <th>Married</th>\n",
       "      <th>Dependents</th>\n",
       "      <th>Education</th>\n",
       "      <th>Self_Employed</th>\n",
       "      <th>ApplicantIncome</th>\n",
       "      <th>CoapplicantIncome</th>\n",
       "      <th>LoanAmount</th>\n",
       "      <th>Loan_Amount_Term</th>\n",
       "      <th>Credit_History</th>\n",
       "      <th>Property_Area</th>\n",
       "      <th>Loan_Status</th>\n",
       "      <th>LoanPurpose</th>\n",
       "      <th>BusnessExperience</th>\n",
       "      <th>FinanceStatement</th>\n",
       "      <th>BusnessNature</th>\n",
       "      <th>Age</th>\n",
       "      <th>Nationality</th>\n",
       "      <th>OtherSourcesIncome</th>\n",
       "    </tr>\n",
       "  </thead>\n",
       "  <tbody>\n",
       "    <tr>\n",
       "      <th>0</th>\n",
       "      <td>LP001002</td>\n",
       "      <td>Male</td>\n",
       "      <td>No</td>\n",
       "      <td>0</td>\n",
       "      <td>Graduate</td>\n",
       "      <td>No</td>\n",
       "      <td>5849</td>\n",
       "      <td>2504</td>\n",
       "      <td>100</td>\n",
       "      <td>360</td>\n",
       "      <td>1</td>\n",
       "      <td>Urban</td>\n",
       "      <td>Y</td>\n",
       "      <td>ImproveCashFlow</td>\n",
       "      <td>Atleast 1year</td>\n",
       "      <td>Profit</td>\n",
       "      <td>Profitable</td>\n",
       "      <td>Max  18</td>\n",
       "      <td>Indigenous</td>\n",
       "      <td>Y</td>\n",
       "    </tr>\n",
       "    <tr>\n",
       "      <th>1</th>\n",
       "      <td>LP001003</td>\n",
       "      <td>Male</td>\n",
       "      <td>Yes</td>\n",
       "      <td>1</td>\n",
       "      <td>Graduate</td>\n",
       "      <td>No</td>\n",
       "      <td>4583</td>\n",
       "      <td>1508</td>\n",
       "      <td>128</td>\n",
       "      <td>360</td>\n",
       "      <td>1</td>\n",
       "      <td>Rural</td>\n",
       "      <td>N</td>\n",
       "      <td>HouseRepair</td>\n",
       "      <td>Lessthan 1year</td>\n",
       "      <td>LossStatement</td>\n",
       "      <td>Profitable</td>\n",
       "      <td>Max 65</td>\n",
       "      <td>Indigenous</td>\n",
       "      <td>Y</td>\n",
       "    </tr>\n",
       "    <tr>\n",
       "      <th>2</th>\n",
       "      <td>LP001005</td>\n",
       "      <td>Male</td>\n",
       "      <td>Yes</td>\n",
       "      <td>0</td>\n",
       "      <td>Graduate</td>\n",
       "      <td>Yes</td>\n",
       "      <td>3000</td>\n",
       "      <td>0</td>\n",
       "      <td>66</td>\n",
       "      <td>360</td>\n",
       "      <td>1</td>\n",
       "      <td>Urban</td>\n",
       "      <td>Y</td>\n",
       "      <td>Agriculture</td>\n",
       "      <td>Atleast 1year</td>\n",
       "      <td>IncomeStatement</td>\n",
       "      <td>ProfitableProfitable</td>\n",
       "      <td>Max  18</td>\n",
       "      <td>Indigenous</td>\n",
       "      <td>Y</td>\n",
       "    </tr>\n",
       "    <tr>\n",
       "      <th>3</th>\n",
       "      <td>LP001006</td>\n",
       "      <td>Male</td>\n",
       "      <td>Yes</td>\n",
       "      <td>0</td>\n",
       "      <td>Not Graduate</td>\n",
       "      <td>No</td>\n",
       "      <td>2583</td>\n",
       "      <td>0</td>\n",
       "      <td>120</td>\n",
       "      <td>360</td>\n",
       "      <td>1</td>\n",
       "      <td>Urban</td>\n",
       "      <td>N</td>\n",
       "      <td>PurchaseEquipment</td>\n",
       "      <td>Lessthan 1year</td>\n",
       "      <td>FinanceProjection</td>\n",
       "      <td>Profitable</td>\n",
       "      <td>Min  18</td>\n",
       "      <td>Indigenous</td>\n",
       "      <td>N</td>\n",
       "    </tr>\n",
       "    <tr>\n",
       "      <th>4</th>\n",
       "      <td>LP001008</td>\n",
       "      <td>Male</td>\n",
       "      <td>No</td>\n",
       "      <td>0</td>\n",
       "      <td>Graduate</td>\n",
       "      <td>No</td>\n",
       "      <td>6000</td>\n",
       "      <td>1300</td>\n",
       "      <td>141</td>\n",
       "      <td>360</td>\n",
       "      <td>1</td>\n",
       "      <td>Urban</td>\n",
       "      <td>Y</td>\n",
       "      <td>PayExpansionProject</td>\n",
       "      <td>Atleast 1year</td>\n",
       "      <td>FinanceProjection</td>\n",
       "      <td>Profitable</td>\n",
       "      <td>Max 18</td>\n",
       "      <td>Indigenous</td>\n",
       "      <td>Y</td>\n",
       "    </tr>\n",
       "  </tbody>\n",
       "</table>\n",
       "</div>"
      ],
      "text/plain": [
       "    Loan_ID Gender Married  Dependents     Education Self_Employed  \\\n",
       "0  LP001002   Male      No           0      Graduate            No   \n",
       "1  LP001003   Male     Yes           1      Graduate            No   \n",
       "2  LP001005   Male     Yes           0      Graduate           Yes   \n",
       "3  LP001006   Male     Yes           0  Not Graduate            No   \n",
       "4  LP001008   Male      No           0      Graduate            No   \n",
       "\n",
       "   ApplicantIncome  CoapplicantIncome  LoanAmount  Loan_Amount_Term  \\\n",
       "0             5849               2504         100               360   \n",
       "1             4583               1508         128               360   \n",
       "2             3000                  0          66               360   \n",
       "3             2583                  0         120               360   \n",
       "4             6000               1300         141               360   \n",
       "\n",
       "   Credit_History Property_Area Loan_Status          LoanPurpose  \\\n",
       "0               1         Urban           Y      ImproveCashFlow   \n",
       "1               1         Rural           N          HouseRepair   \n",
       "2               1         Urban           Y          Agriculture   \n",
       "3               1         Urban           N    PurchaseEquipment   \n",
       "4               1         Urban           Y  PayExpansionProject   \n",
       "\n",
       "  BusnessExperience   FinanceStatement         BusnessNature      Age  \\\n",
       "0     Atleast 1year             Profit            Profitable  Max  18   \n",
       "1    Lessthan 1year      LossStatement            Profitable   Max 65   \n",
       "2     Atleast 1year    IncomeStatement  ProfitableProfitable  Max  18   \n",
       "3    Lessthan 1year  FinanceProjection            Profitable  Min  18   \n",
       "4     Atleast 1year  FinanceProjection            Profitable   Max 18   \n",
       "\n",
       "  Nationality OtherSourcesIncome  \n",
       "0  Indigenous                  Y  \n",
       "1  Indigenous                  Y  \n",
       "2  Indigenous                  Y  \n",
       "3  Indigenous                  N  \n",
       "4  Indigenous                  Y  "
      ]
     },
     "execution_count": 71,
     "metadata": {},
     "output_type": "execute_result"
    }
   ],
   "source": [
    "testdata.head()"
   ]
  },
  {
   "cell_type": "code",
   "execution_count": 72,
   "metadata": {},
   "outputs": [
    {
     "name": "stdout",
     "output_type": "stream",
     "text": [
      "<class 'pandas.core.frame.DataFrame'>\n",
      "RangeIndex: 30 entries, 0 to 29\n",
      "Data columns (total 20 columns):\n",
      " #   Column              Non-Null Count  Dtype \n",
      "---  ------              --------------  ----- \n",
      " 0   Loan_ID             30 non-null     object\n",
      " 1   Gender              30 non-null     object\n",
      " 2   Married             30 non-null     object\n",
      " 3   Dependents          30 non-null     int64 \n",
      " 4   Education           30 non-null     object\n",
      " 5   Self_Employed       30 non-null     object\n",
      " 6   ApplicantIncome     30 non-null     int64 \n",
      " 7   CoapplicantIncome   30 non-null     int64 \n",
      " 8   LoanAmount          30 non-null     int64 \n",
      " 9   Loan_Amount_Term    30 non-null     int64 \n",
      " 10  Credit_History      30 non-null     int64 \n",
      " 11  Property_Area       30 non-null     object\n",
      " 12  Loan_Status         30 non-null     object\n",
      " 13  LoanPurpose         30 non-null     object\n",
      " 14  BusnessExperience   30 non-null     object\n",
      " 15  FinanceStatement    30 non-null     object\n",
      " 16  BusnessNature       30 non-null     object\n",
      " 17  Age                 30 non-null     object\n",
      " 18  Nationality         30 non-null     object\n",
      " 19  OtherSourcesIncome  30 non-null     object\n",
      "dtypes: int64(6), object(14)\n",
      "memory usage: 4.8+ KB\n"
     ]
    }
   ],
   "source": [
    "testdata.info()"
   ]
  },
  {
   "cell_type": "code",
   "execution_count": 73,
   "metadata": {},
   "outputs": [
    {
     "data": {
      "text/plain": [
       "Loan_ID               0\n",
       "Gender                0\n",
       "Married               0\n",
       "Dependents            0\n",
       "Education             0\n",
       "Self_Employed         0\n",
       "ApplicantIncome       0\n",
       "CoapplicantIncome     0\n",
       "LoanAmount            0\n",
       "Loan_Amount_Term      0\n",
       "Credit_History        0\n",
       "Property_Area         0\n",
       "Loan_Status           0\n",
       "LoanPurpose           0\n",
       "BusnessExperience     0\n",
       "FinanceStatement      0\n",
       "BusnessNature         0\n",
       "Age                   0\n",
       "Nationality           0\n",
       "OtherSourcesIncome    0\n",
       "dtype: int64"
      ]
     },
     "execution_count": 73,
     "metadata": {},
     "output_type": "execute_result"
    }
   ],
   "source": [
    "testdata.isnull().sum()"
   ]
  },
  {
   "cell_type": "code",
   "execution_count": 74,
   "metadata": {},
   "outputs": [],
   "source": [
    "#testdata['Gender'].fillna(testdata['Gender'].mode()[0], inplace=True)\n",
    "#testdata['Dependents'].fillna(testdata['Dependents'].mode()[0], inplace=True)\n",
    "#testdata['Self_Employed'].fillna(testdata['Self_Employed'].mode()[0], inplace=True)\n",
    "#testdata['LoanAmount'].fillna(testdata['LoanAmount'].mean(), inplace=True)\n",
    "#testdata['Loan_Amount_Term'].fillna(testdata['Loan_Amount_Term'].mean(), inplace=True)\n",
    "#testdata['Credit_History'].fillna(testdata['Credit_History'].mean(), inplace=True)\n"
   ]
  },
  {
   "cell_type": "code",
   "execution_count": 75,
   "metadata": {},
   "outputs": [
    {
     "data": {
      "text/plain": [
       "Loan_ID               0\n",
       "Gender                0\n",
       "Married               0\n",
       "Dependents            0\n",
       "Education             0\n",
       "Self_Employed         0\n",
       "ApplicantIncome       0\n",
       "CoapplicantIncome     0\n",
       "LoanAmount            0\n",
       "Loan_Amount_Term      0\n",
       "Credit_History        0\n",
       "Property_Area         0\n",
       "Loan_Status           0\n",
       "LoanPurpose           0\n",
       "BusnessExperience     0\n",
       "FinanceStatement      0\n",
       "BusnessNature         0\n",
       "Age                   0\n",
       "Nationality           0\n",
       "OtherSourcesIncome    0\n",
       "dtype: int64"
      ]
     },
     "execution_count": 75,
     "metadata": {},
     "output_type": "execute_result"
    }
   ],
   "source": [
    "testdata.isnull().sum()"
   ]
  },
  {
   "cell_type": "code",
   "execution_count": 76,
   "metadata": {},
   "outputs": [
    {
     "data": {
      "text/plain": [
       "<AxesSubplot:>"
      ]
     },
     "execution_count": 76,
     "metadata": {},
     "output_type": "execute_result"
    },
    {
     "data": {
      "image/png": "[encoded data removed]",
      "text/plain": [
       "<Figure size 432x288 with 1 Axes>"
      ]
     },
     "metadata": {
      "needs_background": "light"
     },
     "output_type": "display_data"
    }
   ],
   "source": [
    "testdata.boxplot(column='LoanAmount')"
   ]
  },
  {
   "cell_type": "code",
   "execution_count": 77,
   "metadata": {},
   "outputs": [],
   "source": [
    "testdata['LoanAmount_log']= np.log(testdata['LoanAmount'])\n"
   ]
  },
  {
   "cell_type": "code",
   "execution_count": 78,
   "metadata": {},
   "outputs": [
    {
     "data": {
      "text/plain": [
       "Loan_ID               0\n",
       "Gender                0\n",
       "Married               0\n",
       "Dependents            0\n",
       "Education             0\n",
       "Self_Employed         0\n",
       "ApplicantIncome       0\n",
       "CoapplicantIncome     0\n",
       "LoanAmount            0\n",
       "Loan_Amount_Term      0\n",
       "Credit_History        0\n",
       "Property_Area         0\n",
       "Loan_Status           0\n",
       "LoanPurpose           0\n",
       "BusnessExperience     0\n",
       "FinanceStatement      0\n",
       "BusnessNature         0\n",
       "Age                   0\n",
       "Nationality           0\n",
       "OtherSourcesIncome    0\n",
       "LoanAmount_log        0\n",
       "dtype: int64"
      ]
     },
     "execution_count": 78,
     "metadata": {},
     "output_type": "execute_result"
    }
   ],
   "source": [
    "testdata.isnull().sum()"
   ]
  },
  {
   "cell_type": "code",
   "execution_count": 79,
   "metadata": {},
   "outputs": [
    {
     "name": "stderr",
     "output_type": "stream",
     "text": [
      "C:\\Users\\JackMihayo\\anaconda3\\lib\\site-packages\\pandas\\core\\series.py:726: RuntimeWarning: divide by zero encountered in log\n",
      "  result = getattr(ufunc, method)(*inputs, **kwargs)\n"
     ]
    }
   ],
   "source": [
    "testdata['TotalIncome'] = testdata['ApplicantIncome'] + testdata['CoapplicantIncome']\n",
    "testdata['Totalncome_log'] = np.log(testdata['TotalIncome'])"
   ]
  },
  {
   "cell_type": "code",
   "execution_count": 80,
   "metadata": {},
   "outputs": [
    {
     "data": {
      "text/html": [
       "<div>\n",
       "<style scoped>\n",
       "    .dataframe tbody tr th:only-of-type {\n",
       "        vertical-align: middle;\n",
       "    }\n",
       "\n",
       "    .dataframe tbody tr th {\n",
       "        vertical-align: top;\n",
       "    }\n",
       "\n",
       "    .dataframe thead th {\n",
       "        text-align: right;\n",
       "    }\n",
       "</style>\n",
       "<table border=\"1\" class=\"dataframe\">\n",
       "  <thead>\n",
       "    <tr style=\"text-align: right;\">\n",
       "      <th></th>\n",
       "      <th>Loan_ID</th>\n",
       "      <th>Gender</th>\n",
       "      <th>Married</th>\n",
       "      <th>Dependents</th>\n",
       "      <th>Education</th>\n",
       "      <th>Self_Employed</th>\n",
       "      <th>ApplicantIncome</th>\n",
       "      <th>CoapplicantIncome</th>\n",
       "      <th>LoanAmount</th>\n",
       "      <th>Loan_Amount_Term</th>\n",
       "      <th>...</th>\n",
       "      <th>LoanPurpose</th>\n",
       "      <th>BusnessExperience</th>\n",
       "      <th>FinanceStatement</th>\n",
       "      <th>BusnessNature</th>\n",
       "      <th>Age</th>\n",
       "      <th>Nationality</th>\n",
       "      <th>OtherSourcesIncome</th>\n",
       "      <th>LoanAmount_log</th>\n",
       "      <th>TotalIncome</th>\n",
       "      <th>Totalncome_log</th>\n",
       "    </tr>\n",
       "  </thead>\n",
       "  <tbody>\n",
       "    <tr>\n",
       "      <th>0</th>\n",
       "      <td>LP001002</td>\n",
       "      <td>Male</td>\n",
       "      <td>No</td>\n",
       "      <td>0</td>\n",
       "      <td>Graduate</td>\n",
       "      <td>No</td>\n",
       "      <td>5849</td>\n",
       "      <td>2504</td>\n",
       "      <td>100</td>\n",
       "      <td>360</td>\n",
       "      <td>...</td>\n",
       "      <td>ImproveCashFlow</td>\n",
       "      <td>Atleast 1year</td>\n",
       "      <td>Profit</td>\n",
       "      <td>Profitable</td>\n",
       "      <td>Max  18</td>\n",
       "      <td>Indigenous</td>\n",
       "      <td>Y</td>\n",
       "      <td>4.605170</td>\n",
       "      <td>8353</td>\n",
       "      <td>9.030376</td>\n",
       "    </tr>\n",
       "    <tr>\n",
       "      <th>1</th>\n",
       "      <td>LP001003</td>\n",
       "      <td>Male</td>\n",
       "      <td>Yes</td>\n",
       "      <td>1</td>\n",
       "      <td>Graduate</td>\n",
       "      <td>No</td>\n",
       "      <td>4583</td>\n",
       "      <td>1508</td>\n",
       "      <td>128</td>\n",
       "      <td>360</td>\n",
       "      <td>...</td>\n",
       "      <td>HouseRepair</td>\n",
       "      <td>Lessthan 1year</td>\n",
       "      <td>LossStatement</td>\n",
       "      <td>Profitable</td>\n",
       "      <td>Max 65</td>\n",
       "      <td>Indigenous</td>\n",
       "      <td>Y</td>\n",
       "      <td>4.852030</td>\n",
       "      <td>6091</td>\n",
       "      <td>8.714568</td>\n",
       "    </tr>\n",
       "    <tr>\n",
       "      <th>2</th>\n",
       "      <td>LP001005</td>\n",
       "      <td>Male</td>\n",
       "      <td>Yes</td>\n",
       "      <td>0</td>\n",
       "      <td>Graduate</td>\n",
       "      <td>Yes</td>\n",
       "      <td>3000</td>\n",
       "      <td>0</td>\n",
       "      <td>66</td>\n",
       "      <td>360</td>\n",
       "      <td>...</td>\n",
       "      <td>Agriculture</td>\n",
       "      <td>Atleast 1year</td>\n",
       "      <td>IncomeStatement</td>\n",
       "      <td>ProfitableProfitable</td>\n",
       "      <td>Max  18</td>\n",
       "      <td>Indigenous</td>\n",
       "      <td>Y</td>\n",
       "      <td>4.189655</td>\n",
       "      <td>3000</td>\n",
       "      <td>8.006368</td>\n",
       "    </tr>\n",
       "    <tr>\n",
       "      <th>3</th>\n",
       "      <td>LP001006</td>\n",
       "      <td>Male</td>\n",
       "      <td>Yes</td>\n",
       "      <td>0</td>\n",
       "      <td>Not Graduate</td>\n",
       "      <td>No</td>\n",
       "      <td>2583</td>\n",
       "      <td>0</td>\n",
       "      <td>120</td>\n",
       "      <td>360</td>\n",
       "      <td>...</td>\n",
       "      <td>PurchaseEquipment</td>\n",
       "      <td>Lessthan 1year</td>\n",
       "      <td>FinanceProjection</td>\n",
       "      <td>Profitable</td>\n",
       "      <td>Min  18</td>\n",
       "      <td>Indigenous</td>\n",
       "      <td>N</td>\n",
       "      <td>4.787492</td>\n",
       "      <td>2583</td>\n",
       "      <td>7.856707</td>\n",
       "    </tr>\n",
       "    <tr>\n",
       "      <th>4</th>\n",
       "      <td>LP001008</td>\n",
       "      <td>Male</td>\n",
       "      <td>No</td>\n",
       "      <td>0</td>\n",
       "      <td>Graduate</td>\n",
       "      <td>No</td>\n",
       "      <td>6000</td>\n",
       "      <td>1300</td>\n",
       "      <td>141</td>\n",
       "      <td>360</td>\n",
       "      <td>...</td>\n",
       "      <td>PayExpansionProject</td>\n",
       "      <td>Atleast 1year</td>\n",
       "      <td>FinanceProjection</td>\n",
       "      <td>Profitable</td>\n",
       "      <td>Max 18</td>\n",
       "      <td>Indigenous</td>\n",
       "      <td>Y</td>\n",
       "      <td>4.948760</td>\n",
       "      <td>7300</td>\n",
       "      <td>8.895630</td>\n",
       "    </tr>\n",
       "  </tbody>\n",
       "</table>\n",
       "<p>5 rows × 23 columns</p>\n",
       "</div>"
      ],
      "text/plain": [
       "    Loan_ID Gender Married  Dependents     Education Self_Employed  \\\n",
       "0  LP001002   Male      No           0      Graduate            No   \n",
       "1  LP001003   Male     Yes           1      Graduate            No   \n",
       "2  LP001005   Male     Yes           0      Graduate           Yes   \n",
       "3  LP001006   Male     Yes           0  Not Graduate            No   \n",
       "4  LP001008   Male      No           0      Graduate            No   \n",
       "\n",
       "   ApplicantIncome  CoapplicantIncome  LoanAmount  Loan_Amount_Term  ...  \\\n",
       "0             5849               2504         100               360  ...   \n",
       "1             4583               1508         128               360  ...   \n",
       "2             3000                  0          66               360  ...   \n",
       "3             2583                  0         120               360  ...   \n",
       "4             6000               1300         141               360  ...   \n",
       "\n",
       "           LoanPurpose BusnessExperience   FinanceStatement  \\\n",
       "0      ImproveCashFlow     Atleast 1year             Profit   \n",
       "1          HouseRepair    Lessthan 1year      LossStatement   \n",
       "2          Agriculture     Atleast 1year    IncomeStatement   \n",
       "3    PurchaseEquipment    Lessthan 1year  FinanceProjection   \n",
       "4  PayExpansionProject     Atleast 1year  FinanceProjection   \n",
       "\n",
       "          BusnessNature      Age Nationality OtherSourcesIncome  \\\n",
       "0            Profitable  Max  18  Indigenous                  Y   \n",
       "1            Profitable   Max 65  Indigenous                  Y   \n",
       "2  ProfitableProfitable  Max  18  Indigenous                  Y   \n",
       "3            Profitable  Min  18  Indigenous                  N   \n",
       "4            Profitable   Max 18  Indigenous                  Y   \n",
       "\n",
       "  LoanAmount_log TotalIncome Totalncome_log  \n",
       "0       4.605170        8353       9.030376  \n",
       "1       4.852030        6091       8.714568  \n",
       "2       4.189655        3000       8.006368  \n",
       "3       4.787492        2583       7.856707  \n",
       "4       4.948760        7300       8.895630  \n",
       "\n",
       "[5 rows x 23 columns]"
      ]
     },
     "execution_count": 80,
     "metadata": {},
     "output_type": "execute_result"
    }
   ],
   "source": [
    "testdata.head()"
   ]
  },
  {
   "cell_type": "code",
   "execution_count": 81,
   "metadata": {},
   "outputs": [],
   "source": [
    "#test = testdata.iloc[:,np.r_[1:5,9:11,13:15]].values\n",
    "test=testdata.iloc[:,np.r_[4:9,11,13:22]].values"
   ]
  },
  {
   "cell_type": "code",
   "execution_count": 82,
   "metadata": {},
   "outputs": [],
   "source": [
    "for i in range(0, 5):\n",
    "    test[:,i]=labelencoder_x.fit_transform(test[:,i])"
   ]
  },
  {
   "cell_type": "code",
   "execution_count": 83,
   "metadata": {},
   "outputs": [
    {
     "data": {
      "text/plain": [
       "array([[0, 0, 22, 8, 5, 'Urban', 'ImproveCashFlow', 0, 'Profit',\n",
       "        'Profitable', 'Max  18', 'Indigenous', 'Y', 4.605170185988092,\n",
       "        8353],\n",
       "       [0, 0, 17, 4, 16, 'Rural', 'HouseRepair', 1, 'LossStatement',\n",
       "        'Profitable', 'Max 65', 'Indigenous', 'Y', 4.852030263919617,\n",
       "        6091],\n",
       "       [0, 1, 8, 0, 1, 'Urban', 'Agriculture', 0, 'IncomeStatement',\n",
       "        'ProfitableProfitable', 'Max  18', 'Indigenous', 'Y',\n",
       "        4.189654742026425, 3000],\n",
       "       [1, 0, 5, 0, 13, 'Urban', 'PurchaseEquipment', 1,\n",
       "        'FinanceProjection', 'Profitable', 'Min  18', 'Indigenous', 'N',\n",
       "        4.787491742782046, 2583],\n",
       "       [0, 0, 24, 3, 18, 'Urban', 'PayExpansionProject', 0,\n",
       "        'FinanceProjection', 'Profitable', 'Max 18', 'Indigenous', 'Y',\n",
       "        4.948759890378168, 7300],\n",
       "       [0, 1, 21, 0, 24, 'Urban', 'PurchaseInventory', 1, 'Profit',\n",
       "        'Profitable', 'Max 18', 'Indigenous', 'N', 5.58724865840025,\n",
       "        5417],\n",
       "       [1, 0, 3, 0, 4, 'Urban', 'NonProfitBusness', 1, 'IncomeStatement',\n",
       "        'NonProfitable', 'Min  18', 'Indigenous', 'Y', 4.553876891600541,\n",
       "        2333],\n",
       "       [0, 0, 9, 8, 20, 'Semiurban', 'UseasPayroll', 0, 'Profit',\n",
       "        'Profitable', 'Max 65', 'Indigenous', 'Y', 5.062595033026967,\n",
       "        5540],\n",
       "       [0, 0, 15, 5, 21, 'Urban', 'BuyAsset', 0, 'FinanceProjection',\n",
       "        'Profitable', 'Max  18', 'Foreigner', 'Y', 5.123963979403259,\n",
       "        5532],\n",
       "       [0, 0, 27, 11, 27, 'Semiurban', 'ClearDebt', 1, 'LossStatement',\n",
       "        'Profitable', 'Max 65', 'Indigenous', 'N', 5.855071922202427,\n",
       "        23809],\n",
       "       [0, 0, 11, 1, 2, 'Urban', 'WeddingExpense', 0,\n",
       "        'FinanceProjection', 'Profitable', 'Max  18', 'Indigenous', 'Y',\n",
       "        4.248495242049359, 3900],\n",
       "       [0, 1, 4, 0, 7, 'Urban', 'EmergencyExpenses', 0, 'Profit',\n",
       "        'Profitable', 'Max 18', 'Indigenous', 'Y', 4.6913478822291435,\n",
       "        2500],\n",
       "       [0, 0, 10, 0, 23, 'Urban', 'ImproveCashFlow', 0,\n",
       "        'FinanceProjection', 'Profitable', 'Max 18', 'Indigenous', 'N',\n",
       "        5.298317366548036, 3073],\n",
       "       [0, 0, 2, 9, 10, 'Rural', 'Agriculture', 0, 'Profit',\n",
       "        'Profitable', 'Max 18', 'Indigenous', 'N', 4.736198448394496,\n",
       "        4693],\n",
       "       [0, 0, 1, 2, 0, 'Urban', 'ClearDebt', 1, 'LossStatement',\n",
       "        'NonProfitable', 'Min  18', 'Indigenous', 'Y', 2.833213344056216,\n",
       "        2385],\n",
       "       [0, 0, 19, 6, 15, 'Urban', 'HouseRepair', 1, 'FinanceProjection',\n",
       "        'NonProfitabe', 'Min  18', 'Foreigner', 'Y', 4.8283137373023015,\n",
       "        7083],\n",
       "       [1, 0, 0, 0, 5, 'Urban', 'Agriculture', 0, 'Profit', 'Profitabe',\n",
       "        'Max  18', 'Indigenous', 'Y', 4.605170185988092, 0],\n",
       "       [0, 0, 13, 12, 3, 'Urban', 'Agriculture', 1, 'LossStatement',\n",
       "        'Profitabe', 'Max 65', 'Indigenous', 'N', 4.330733340286331,\n",
       "        40175],\n",
       "       [1, 0, 18, 0, 17, 'Rural', 'PurchaseEquipment', 0,\n",
       "        'FinanceProjection', 'Profitable', 'Min  18', 'Indigenous', 'Y',\n",
       "        4.890349128221754, 4887],\n",
       "       [0, 1, 6, 0, 11, 'Urban', 'HouseRepair', 0, 'Profit',\n",
       "        'NonProfitable', 'Min  18', 'Foreigner', 'N', 4.74493212836325,\n",
       "        2600],\n",
       "       [1, 0, 25, 0, 6, 'Urban', 'ClearDebt', 0, 'FinanceProjection',\n",
       "        'Profitable', 'Min  18', 'Indigenous', 'Y', 4.6443908991413725,\n",
       "        7660],\n",
       "       [0, 0, 23, 10, 26, 'Urban', 'ImproveCashFlow', 0, 'LossStatement',\n",
       "        'NonProfitable', 'Max 65', 'Foreigner', 'Y', 5.752572638825633,\n",
       "        11580],\n",
       "       [1, 0, 6, 0, 12, 'Semiurban', 'PurchaseEquipment', 0,\n",
       "        'IncomeStatement', 'NonProfitable', 'Min  18', 'Indigenous', 'Y',\n",
       "        4.7535901911063645, 2600],\n",
       "       [1, 0, 12, 0, 9, 'Rural', 'HouseRepair', 0, 'Profit', 'NonProfit',\n",
       "        'Max 65', 'Indigenous', 'N', 4.718498871295094, 3365],\n",
       "       [0, 1, 14, 0, 19, 'Semiurban', 'PayExpansionProject', 1,\n",
       "        'LossStatement', 'NonProfitable', 'Min  18', 'Foreigner', 'N',\n",
       "        5.017279836814924, 3717],\n",
       "       [0, 1, 26, 0, 22, 'Semiurban', 'Agriculture', 0, 'Profit',\n",
       "        'Profitable', 'Max 18', 'Indigenous', 'Y', 5.25227342804663,\n",
       "        9560],\n",
       "       [0, 0, 7, 7, 14, 'Semiurban', 'ImproveCashFlow', 1, 'Profit',\n",
       "        'Profitable', 'Max 18', 'Indigenous', 'N', 4.804021044733257,\n",
       "        5052],\n",
       "       [1, 0, 16, 0, 8, 'Urban', 'ClearDebt', 0, 'IncomeStatement',\n",
       "        'Profitable', 'Max 18', 'Indigenous', 'Y', 4.700480365792417,\n",
       "        4226],\n",
       "       [0, 1, 9, 0, 12, 'Rural', 'BuyAsset', 0, 'Profit', 'Profitable',\n",
       "        'Max 18', 'Indigenous', 'Y', 4.7535901911063645, 3036],\n",
       "       [0, 1, 20, 0, 25, 'Urban', 'ImproveCashFlow', 0, 'Profit',\n",
       "        'Profitable', 'Max 18', 'Indigenous', 'Y', 5.703782474656201,\n",
       "        4990]], dtype=object)"
      ]
     },
     "execution_count": 83,
     "metadata": {},
     "output_type": "execute_result"
    }
   ],
   "source": [
    "test[:,7] = labelencoder_x.fit_transform(test[:,7])\n",
    "test"
   ]
  },
  {
   "cell_type": "markdown",
   "metadata": {},
   "source": [
    "# Save, Dump and Load Model"
   ]
  },
  {
   "cell_type": "code",
   "execution_count": 95,
   "metadata": {},
   "outputs": [
    {
     "data": {
      "text/plain": [
       "DecisionTreeClassifier(criterion='entropy', random_state=0)"
      ]
     },
     "execution_count": 95,
     "metadata": {},
     "output_type": "execute_result"
    }
   ],
   "source": [
    "import pickle\n",
    "from sklearn.tree import DecisionTreeClassifier\n",
    "DTClassifier = DecisionTreeClassifier(criterion='entropy', random_state=0)\n",
    "DTClassifier.fit(x_train, y_train)"
   ]
  },
  {
   "cell_type": "code",
   "execution_count": 96,
   "metadata": {},
   "outputs": [],
   "source": [
    "\n",
    "# save the model to disk\n",
    "filename = 'finalized_model.sav'\n",
    "pickle.dump(DTClassifier, open(filename, 'wb'))\n",
    " \n"
   ]
  },
  {
   "cell_type": "code",
   "execution_count": 97,
   "metadata": {},
   "outputs": [],
   "source": [
    "# load the model from disk\n",
    "loaded_model = pickle.load(open(filename, 'rb'))\n",
    "result = loaded_model.score(x_test, y_test)"
   ]
  },
  {
   "cell_type": "code",
   "execution_count": null,
   "metadata": {},
   "outputs": [],
   "source": []
  }
 ],
 "metadata": {
  "kernelspec": {
   "display_name": "Python 3",
   "language": "python",
   "name": "python3"
  },
  "language_info": {
   "codemirror_mode": {
    "name": "ipython",
    "version": 3
   },
   "file_extension": ".py",
   "mimetype": "text/x-python",
   "name": "python",
   "nbconvert_exporter": "python",
   "pygments_lexer": "ipython3",
   "version": "3.8.5"
  }
 },
 "nbformat": 4,
 "nbformat_minor": 4
}
